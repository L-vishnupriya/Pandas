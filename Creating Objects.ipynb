{
 "cells": [
  {
   "cell_type": "markdown",
   "id": "1de383de-6fc6-4fab-8df3-6f168931c42f",
   "metadata": {},
   "source": [
    "Creating a Pandas DataFrame :\n",
    "\n",
    "A Dataframe is a two-dimensional data structure, i.e., data is aligned in a tabular fashion in rows and columns"
   ]
  },
  {
   "cell_type": "markdown",
   "id": "0581fe9e-9ac8-4717-8afc-471c98668127",
   "metadata": {},
   "source": [
    "Creating an empty dataframe : \n",
    "\n",
    "A basic DataFrame, which can be created is an Empty Dataframe. An Empty Dataframe is created just by calling a dataframe constructor. "
   ]
  },
  {
   "cell_type": "code",
   "execution_count": 1,
   "id": "c6522483-d19a-454b-b286-42882c596598",
   "metadata": {},
   "outputs": [
    {
     "name": "stdout",
     "output_type": "stream",
     "text": [
      "Empty DataFrame\n",
      "Columns: []\n",
      "Index: []\n"
     ]
    }
   ],
   "source": [
    "import pandas as pd\n",
    "\n",
    "df = pd.DataFrame() #calling dataframe constructor\n",
    "print(df)"
   ]
  },
  {
   "cell_type": "markdown",
   "id": "7903a0d5-3b4f-4b07-a983-476db45ba3b3",
   "metadata": {},
   "source": [
    "Creating a dataframe using List: \n",
    "\n",
    "DataFrame can be created using a single list or a list of lists"
   ]
  },
  {
   "cell_type": "code",
   "execution_count": 3,
   "id": "ca6495bb-e233-4f38-abcb-28151754a562",
   "metadata": {},
   "outputs": [
    {
     "name": "stdout",
     "output_type": "stream",
     "text": [
      "   0\n",
      "0  v\n",
      "1  i\n",
      "2  s\n",
      "3  h\n",
      "4  n\n",
      "5  u\n"
     ]
    }
   ],
   "source": [
    "import pandas as pd\n",
    "\n",
    "lists = (['v','i','s','h','n','u']) # list of strings\n",
    "df = pd.DataFrame(lists) # Calling DataFrame constructor on list\n",
    "print(df)"
   ]
  },
  {
   "cell_type": "markdown",
   "id": "1724305a-d105-4232-8c66-7fe3a33e9f52",
   "metadata": {},
   "source": [
    "Creating DataFrame from dict of ndarray/lists: "
   ]
  },
  {
   "cell_type": "code",
   "execution_count": 7,
   "id": "79981212-cc63-4ae9-9fc6-48fb1321fc00",
   "metadata": {},
   "outputs": [
    {
     "name": "stdout",
     "output_type": "stream",
     "text": [
      "      name  age\n",
      "0   vishnu   20\n",
      "1  ruthran   10\n",
      "2     laya    5\n"
     ]
    }
   ],
   "source": [
    "import pandas as pd\n",
    "\n",
    "data = {'name':['vishnu','ruthran','laya'],'age':[20, 10, 5]}\n",
    "\n",
    "df = pd.DataFrame(data)\n",
    "print(df)"
   ]
  },
  {
   "cell_type": "markdown",
   "id": "ef5db2d4-3f28-4655-9c14-ef41da1aff9d",
   "metadata": {},
   "source": [
    "Create pandas dataframe from lists using dictionary: "
   ]
  },
  {
   "cell_type": "code",
   "execution_count": 9,
   "id": "311b9afb-d35b-4d09-97bb-805baf5c05ab",
   "metadata": {},
   "outputs": [
    {
     "name": "stdout",
     "output_type": "stream",
     "text": [
      "     name  degree  score\n",
      "0  aparna     MBA     90\n",
      "1  pankaj     BCA     40\n",
      "2  sudhir  M.Tech     80\n",
      "3   Geeku     MBA     98\n"
     ]
    }
   ],
   "source": [
    "import pandas as pd\n",
    " \n",
    "# dictionary of lists\n",
    "dict = {'name':[\"aparna\", \"pankaj\", \"sudhir\", \"Geeku\"],\n",
    "        'degree': [\"MBA\", \"BCA\", \"M.Tech\", \"MBA\"],\n",
    "        'score':[90, 40, 80, 98]}\n",
    " \n",
    "df = pd.DataFrame(dict)\n",
    " \n",
    "print(df)"
   ]
  },
  {
   "cell_type": "markdown",
   "id": "52675744-a807-449e-aaf0-7f994e5a89d2",
   "metadata": {},
   "source": [
    "Python Pandas Series :"
   ]
  },
  {
   "cell_type": "code",
   "execution_count": 10,
   "id": "2aab58e8-bda3-4f93-9ad4-a28477bd9cb7",
   "metadata": {},
   "outputs": [
    {
     "name": "stdout",
     "output_type": "stream",
     "text": [
      "0    1\n",
      "1    2\n",
      "2    3\n",
      "3    4\n",
      "dtype: int64\n"
     ]
    }
   ],
   "source": [
    "# import pandas as pd\n",
    "import pandas as pd\n",
    " \n",
    "# simple array\n",
    "data = [1, 2, 3, 4]\n",
    " \n",
    "ser = pd.Series(data)\n",
    "print(ser)"
   ]
  },
  {
   "cell_type": "code",
   "execution_count": 11,
   "id": "9adffa2f-14bd-4ca1-b3f3-d76c1d7ade34",
   "metadata": {},
   "outputs": [
    {
     "name": "stdout",
     "output_type": "stream",
     "text": [
      "0    g\n",
      "1    e\n",
      "2    e\n",
      "3    k\n",
      "4    s\n",
      "dtype: object\n"
     ]
    }
   ],
   "source": [
    "# import pandas as pd\n",
    "import pandas as pd\n",
    " \n",
    "# import numpy as np\n",
    "import numpy as np\n",
    " \n",
    "# simple array\n",
    "data = np.array(['g','e','e','k','s'])\n",
    " \n",
    "ser = pd.Series(data)\n",
    "print(ser)"
   ]
  },
  {
   "cell_type": "code",
   "execution_count": 12,
   "id": "72270f7b-f818-4c77-99f8-9bd2e647fb93",
   "metadata": {},
   "outputs": [
    {
     "name": "stdout",
     "output_type": "stream",
     "text": [
      "0    g\n",
      "1    e\n",
      "2    e\n",
      "3    k\n",
      "4    s\n",
      "dtype: object\n"
     ]
    }
   ],
   "source": [
    "import pandas as pd\n",
    " \n",
    "# a simple list\n",
    "list = ['g', 'e', 'e', 'k', 's']\n",
    "  \n",
    "# create series form a list\n",
    "ser = pd.Series(list)\n",
    "print(ser)"
   ]
  },
  {
   "cell_type": "markdown",
   "id": "96bc07af-a3c6-4e15-902c-3e1c657d28e9",
   "metadata": {},
   "source": [
    "Accessing Element from Series with Position : \n",
    "\n",
    "In order to access the series element refers to the index number. Use the index operator [ ] to access an element in a series. The index must be an integer. In order to access multiple elements from a series, we use Slice operation.\n",
    "\n",
    "Accessing first 5 elements of Series :"
   ]
  },
  {
   "cell_type": "code",
   "execution_count": 17,
   "id": "c9e5ac11-f205-4d93-bb87-28888d7e8034",
   "metadata": {},
   "outputs": [
    {
     "name": "stdout",
     "output_type": "stream",
     "text": [
      "0    v\n",
      "1    i\n",
      "2    s\n",
      "3    h\n",
      "4    n\n",
      "5    u\n",
      "dtype: object\n"
     ]
    }
   ],
   "source": [
    "import pandas as pd\n",
    "\n",
    "data = (['v','i','s','h','n','u','p','r','i','y','a'])\n",
    "df = pd.Series(data)\n",
    "\n",
    "print(df[:6])"
   ]
  },
  {
   "cell_type": "code",
   "execution_count": 18,
   "id": "e9446403-a8b1-429c-849d-9dcd2f5303a7",
   "metadata": {},
   "outputs": [
    {
     "name": "stdout",
     "output_type": "stream",
     "text": [
      "6     p\n",
      "7     r\n",
      "8     i\n",
      "9     y\n",
      "10    a\n",
      "dtype: object\n"
     ]
    }
   ],
   "source": [
    "import pandas as pd\n",
    "\n",
    "data = (['v','i','s','h','n','u','p','r','i','y','a'])\n",
    "df = pd.Series(data)\n",
    "\n",
    "print(df[6:])"
   ]
  },
  {
   "cell_type": "markdown",
   "id": "cc8ac828-8f7b-498a-830c-6c7054c0e269",
   "metadata": {},
   "source": [
    "Accessing Element Using Label (index) :"
   ]
  },
  {
   "cell_type": "code",
   "execution_count": 2,
   "id": "4025b4ee-aec5-4e6e-a99e-0283b549c2c0",
   "metadata": {},
   "outputs": [
    {
     "name": "stdout",
     "output_type": "stream",
     "text": [
      "y\n"
     ]
    }
   ],
   "source": [
    "import pandas as pd\n",
    "\n",
    "data = (['v','i','s','h','n','u','p','r','i','y','a'])\n",
    "df = pd.Series(data,index=[1,2,3,4,5,6,7,8,9,10,11])\n",
    "\n",
    "print(df[10])"
   ]
  },
  {
   "cell_type": "code",
   "execution_count": 8,
   "id": "1a0c3109-c0cb-4643-919a-f0ffb0112248",
   "metadata": {},
   "outputs": [
    {
     "data": {
      "text/plain": [
       "0    2600\n",
       "1    3000\n",
       "2    3200\n",
       "3    3600\n",
       "4    4000\n",
       "5    4100\n",
       "Name: area, dtype: int64"
      ]
     },
     "execution_count": 8,
     "metadata": {},
     "output_type": "execute_result"
    }
   ],
   "source": [
    "# importing pandas module  \n",
    "import pandas as pd  \n",
    "\n",
    "#file_path = \"\n",
    "# making data frame  \n",
    "df = pd.read_csv(\"homeprices.csv\")  \n",
    "   \n",
    "ser = pd.Series(df['area']) \n",
    "data = ser.head(10)\n",
    "data "
   ]
  },
  {
   "cell_type": "markdown",
   "id": "d28848b4-a33a-4d8e-a3b8-5fbf012541cf",
   "metadata": {},
   "source": [
    "Binary Operation on Series :"
   ]
  },
  {
   "cell_type": "code",
   "execution_count": 9,
   "id": "e7982f2c-3fb0-4817-aaf2-a961af6479e3",
   "metadata": {},
   "outputs": [
    {
     "name": "stdout",
     "output_type": "stream",
     "text": [
      "a    5\n",
      "b    2\n",
      "c    3\n",
      "d    7\n",
      "dtype: int64 \n",
      "\n",
      " a    1\n",
      "b    6\n",
      "d    4\n",
      "e    9\n",
      "dtype: int64\n"
     ]
    }
   ],
   "source": [
    "# importing pandas module  \n",
    "import pandas as pd  \n",
    " \n",
    "# creating a series\n",
    "data = pd.Series([5, 2, 3,7], index=['a', 'b', 'c', 'd'])\n",
    " \n",
    "# creating a series\n",
    "data1 = pd.Series([1, 6, 4, 9], index=['a', 'b', 'd', 'e'])\n",
    " \n",
    "print(data, \"\\n\\n\", data1)"
   ]
  },
  {
   "cell_type": "markdown",
   "id": "8d6f808a-3576-4412-a92c-b39d20c3c9ae",
   "metadata": {},
   "source": [
    "Conversion Operation on Series :"
   ]
  },
  {
   "cell_type": "code",
   "execution_count": 10,
   "id": "747b4944-0a1e-4559-b9b3-38e8171f8c8e",
   "metadata": {},
   "outputs": [
    {
     "name": "stdout",
     "output_type": "stream",
     "text": [
      "BEFORE CONVERSION\n",
      " area          int64\n",
      "bedrooms    float64\n",
      "age           int64\n",
      "price         int64\n",
      "dtype: object \n",
      "\n",
      "AFTER CONVERSION\n",
      " area         int32\n",
      "bedrooms    object\n",
      "age          int64\n",
      "price        int64\n",
      "dtype: object \n",
      "\n"
     ]
    }
   ],
   "source": [
    "# importing pandas module  \n",
    "import pandas as pd \n",
    "   \n",
    "# reading csv file from url  \n",
    "data = pd.read_csv(\"homeprices.csv\") \n",
    "    \n",
    "# dropping null value columns to avoid errors \n",
    "data.dropna(inplace = True) \n",
    "   \n",
    "# storing dtype before converting \n",
    "before = data.dtypes \n",
    "   \n",
    "# converting dtypes using astype \n",
    "data[\"area\"]= data[\"area\"].astype(int) \n",
    "data[\"bedrooms\"]= data[\"bedrooms\"].astype(str) \n",
    "   \n",
    "# storing dtype after converting \n",
    "after = data.dtypes \n",
    "   \n",
    "# printing to compare \n",
    "print(\"BEFORE CONVERSION\\n\", before, \"\\n\") \n",
    "print(\"AFTER CONVERSION\\n\", after, \"\\n\") "
   ]
  },
  {
   "cell_type": "code",
   "execution_count": 1,
   "id": "af1376cc-3aab-40e7-9315-c1d35b9f5b41",
   "metadata": {},
   "outputs": [
    {
     "name": "stdout",
     "output_type": "stream",
     "text": [
      "Data type before converting = <class 'pandas.core.series.Series'>\n",
      "Data type after converting = <class 'list'>\n"
     ]
    },
    {
     "data": {
      "text/plain": [
       "[2600, 3000, 3600, 4000, 4100]"
      ]
     },
     "execution_count": 1,
     "metadata": {},
     "output_type": "execute_result"
    }
   ],
   "source": [
    "# importing pandas module  \n",
    "import pandas as pd  \n",
    "   \n",
    "# importing regex module \n",
    "import re \n",
    "     \n",
    "# making data frame  \n",
    "data = pd.read_csv(\"homeprices.csv\")  \n",
    "     \n",
    "# removing null values to avoid errors  \n",
    "data.dropna(inplace = True)  \n",
    "   \n",
    "# storing dtype before operation \n",
    "dtype_before = type(data[\"area\"]) \n",
    "   \n",
    "# converting to list \n",
    "area_list = data[\"area\"].tolist() \n",
    "   \n",
    "# storing dtype after operation \n",
    "dtype_after = type(area_list) \n",
    "   \n",
    "# printing dtype \n",
    "print(\"Data type before converting = {}\\nData type after converting = {}\"\n",
    "      .format(dtype_before, dtype_after)) \n",
    "   \n",
    "# displaying list \n",
    "area_list "
   ]
  },
  {
   "cell_type": "code",
   "execution_count": 4,
   "id": "2850f0b0-f9b0-4331-bb20-7a47bbf079db",
   "metadata": {},
   "outputs": [
    {
     "name": "stdout",
     "output_type": "stream",
     "text": [
      "0     3.0\n",
      "1    18.0\n",
      "2    33.0\n",
      "dtype: float64\n",
      "quot\n",
      " 0      1.0\n",
      "1     12.0\n",
      "2     23.0\n",
      "3     34.0\n",
      "4     45.0\n",
      "5     56.0\n",
      "6     67.0\n",
      "7     78.0\n",
      "8     89.0\n",
      "9    100.0\n",
      "dtype: float64\n"
     ]
    }
   ],
   "source": [
    "# import pandas and numpy\n",
    "import pandas as pd\n",
    "import numpy as np\n",
    " \n",
    "# series with numpy linspace()\n",
    "ser1 = pd.Series(np.linspace(3, 33, 3))\n",
    "print(ser1)\n",
    " \n",
    "# series with numpy linspace()\n",
    "ser2 = pd.Series(np.linspace(1, 100, 10))\n",
    "print(\"quot\\n\" , ser2)"
   ]
  },
  {
   "cell_type": "code",
   "execution_count": 5,
   "id": "20e16b99-327e-41f1-bcfe-bbddab08a144",
   "metadata": {},
   "outputs": [
    {
     "name": "stdout",
     "output_type": "stream",
     "text": [
      "0    0\n",
      "1    1\n",
      "2    2\n",
      "3    3\n",
      "4    4\n",
      "5    5\n",
      "6    6\n",
      "7    7\n",
      "8    8\n",
      "9    9\n",
      "dtype: int64\n"
     ]
    }
   ],
   "source": [
    "# code\n",
    "import pandas as pd\n",
    "ser=pd.Series(range(10))\n",
    "print(ser)\n"
   ]
  },
  {
   "cell_type": "code",
   "execution_count": 6,
   "id": "49dacc98-b6e7-4510-8d95-4147f8822e4e",
   "metadata": {},
   "outputs": [
    {
     "name": "stdout",
     "output_type": "stream",
     "text": [
      "a     1\n",
      "b     4\n",
      "c     7\n",
      "d    10\n",
      "e    13\n",
      "f    16\n",
      "g    19\n",
      "dtype: int64\n"
     ]
    }
   ],
   "source": [
    "import pandas as pd\n",
    "ser=pd.Series(range(1,20,3), index=[x for x in 'abcdefg'])\n",
    "print(ser)\n"
   ]
  },
  {
   "cell_type": "code",
   "execution_count": 7,
   "id": "47e900f5-a89b-4677-b713-020a7ffeb6ea",
   "metadata": {},
   "outputs": [
    {
     "name": "stdout",
     "output_type": "stream",
     "text": [
      "10    50\n",
      "11    55\n",
      "12    60\n",
      "13    65\n",
      "14    70\n",
      "dtype: int32\n"
     ]
    }
   ],
   "source": [
    "import pandas as pd\n",
    "import numpy as np\n",
    "ser=np.arange(10,15)\n",
    "serobj=pd.Series(data=ser*5,index=ser)\n",
    "print(serobj)\n"
   ]
  },
  {
   "cell_type": "code",
   "execution_count": null,
   "id": "612a975f-751a-4ede-91f5-ed0baaee09fc",
   "metadata": {},
   "outputs": [],
   "source": []
  }
 ],
 "metadata": {
  "kernelspec": {
   "display_name": "Python 3 (ipykernel)",
   "language": "python",
   "name": "python3"
  },
  "language_info": {
   "codemirror_mode": {
    "name": "ipython",
    "version": 3
   },
   "file_extension": ".py",
   "mimetype": "text/x-python",
   "name": "python",
   "nbconvert_exporter": "python",
   "pygments_lexer": "ipython3",
   "version": "3.11.7"
  }
 },
 "nbformat": 4,
 "nbformat_minor": 5
}
