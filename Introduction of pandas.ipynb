{
 "cells": [
  {
   "cell_type": "markdown",
   "id": "996e070f-c36c-4bc5-a5ff-1770d48d83fe",
   "metadata": {},
   "source": [
    "Pandas :\n",
    "\n",
    "\n",
    "Pandas is a powerful and versatile library that simplifies the tasks of data manipulation in Python.\n",
    "\n",
    "Pandas is well-suited for working with tabular data, such as spreadsheets or SQL tables.\n",
    "\n",
    "The Pandas library is an essential tool for data analysts, scientists, and engineers working with structured data in Python.\n",
    "\n",
    "Pandas name is derived from “panel data” and is also refered as “Python Data Analysis“."
   ]
  },
  {
   "cell_type": "markdown",
   "id": "217ce192-5e28-4e3f-855f-59e9f1421dcb",
   "metadata": {},
   "source": [
    "Data Structures in Pandas Library :\n",
    "\n",
    "Pandas generally provide two data structures for manipulating data. They are:\n",
    "\n",
    "* Series\n",
    "* DataFrame\n",
    "Pandas Series :\n",
    "\n",
    "A Pandas Series is a one-dimensional labeled array capable of holding data of any type (integer, string, float, Python objects, etc.). The axis labels are collectively called indexes.\n",
    "\n",
    "Pandas DataFrame :\n",
    "\n",
    "Pandas DataFrame is a two-dimensional data structure with labeled axes (rows and columns)."
   ]
  },
  {
   "cell_type": "markdown",
   "id": "54a84817-9037-4666-ac4e-024188a0f3e5",
   "metadata": {},
   "source": [
    "Creating a Series :\n",
    "\n",
    "Pandas Series is created by loading the datasets from existing storage (which can be a SQL database, a CSV file, or an Excel file)."
   ]
  },
  {
   "cell_type": "code",
   "execution_count": 5,
   "id": "5824a73a-ec22-41d6-8720-6546dbb007b5",
   "metadata": {},
   "outputs": [
    {
     "name": "stdout",
     "output_type": "stream",
     "text": [
      "panda series: Series([], dtype: object)\n",
      "panda series:\n",
      " 0    g\n",
      "1    e\n",
      "2    e\n",
      "3    k\n",
      "dtype: object\n"
     ]
    }
   ],
   "source": [
    "import pandas as pd\n",
    "import numpy as np\n",
    "\n",
    "ser = pd.Series()\n",
    "print(\"panda series:\" ,ser)\n",
    "\n",
    "data = np.array(['g','e','e','k'])\n",
    "ser = pd.Series(data)\n",
    "\n",
    "print(\"panda series:\\n\",ser)"
   ]
  },
  {
   "cell_type": "markdown",
   "id": "7357c755-3d63-40c2-a625-5e639cf71fa8",
   "metadata": {},
   "source": [
    "Creating DataFrame :\n",
    "\n",
    "Pandas DataFrame is created by loading the datasets from existing storage (which can be a SQL database, a CSV file, or an Excel file).\n",
    "\n",
    "Pandas DataFrame can be created from lists, dictionaries, a list of dictionaries, etc."
   ]
  },
  {
   "cell_type": "code",
   "execution_count": 8,
   "id": "d7ccfe04-a4db-4f23-9ba3-659e4cd2c813",
   "metadata": {},
   "outputs": [
    {
     "name": "stdout",
     "output_type": "stream",
     "text": [
      "data frame: Empty DataFrame\n",
      "Columns: []\n",
      "Index: []\n",
      "data frame:    0\n",
      "0  g\n",
      "1  e\n",
      "2  e\n",
      "3  k\n",
      "4  v\n",
      "5  i\n"
     ]
    }
   ],
   "source": [
    "import pandas as pd\n",
    "\n",
    "data = pd.DataFrame()\n",
    "print(\"data frame:\",data)\n",
    "\n",
    "lists = (['g','e','e','k','v','i']) \n",
    "data = pd.DataFrame(lists)\n",
    "print(\"data frame:\",data)"
   ]
  },
  {
   "cell_type": "code",
   "execution_count": null,
   "id": "fe3adcb5-be33-465e-a8d6-b94d82e84bbb",
   "metadata": {},
   "outputs": [],
   "source": []
  }
 ],
 "metadata": {
  "kernelspec": {
   "display_name": "Python 3 (ipykernel)",
   "language": "python",
   "name": "python3"
  },
  "language_info": {
   "codemirror_mode": {
    "name": "ipython",
    "version": 3
   },
   "file_extension": ".py",
   "mimetype": "text/x-python",
   "name": "python",
   "nbconvert_exporter": "python",
   "pygments_lexer": "ipython3",
   "version": "3.11.7"
  }
 },
 "nbformat": 4,
 "nbformat_minor": 5
}
