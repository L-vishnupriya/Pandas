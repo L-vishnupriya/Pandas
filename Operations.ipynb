{
 "cells": [
  {
   "cell_type": "markdown",
   "id": "84cf5d0e-5e53-4591-bf45-7f4fc4fb49b1",
   "metadata": {},
   "source": [
    "Apply function to every row in a Pandas DataFrame :"
   ]
  },
  {
   "cell_type": "code",
   "execution_count": 3,
   "id": "64324b23-d974-4d6b-a509-fd64aa2b3496",
   "metadata": {},
   "outputs": [
    {
     "name": "stdout",
     "output_type": "stream",
     "text": [
      "Original DataFrame:\n",
      "    A  B  C\n",
      "0  1  4  7\n",
      "1  2  5  8\n",
      "2  3  6  9\n",
      "\n",
      "After Applying Function: \n",
      "   A  B  C  add\n",
      "0  1  4  7   12\n",
      "1  2  5  8   15\n",
      "2  3  6  9   18\n"
     ]
    }
   ],
   "source": [
    "import pandas as pd\n",
    "\n",
    "# Function to add\n",
    "def add_values(row):\n",
    "\treturn row['A'] + row['B'] + row['C']\n",
    "\n",
    "def main():\n",
    "\t# Create a dictionary with three fields each\n",
    "\tdata = {\n",
    "\t\t'A': [1, 2, 3],\n",
    "\t\t'B': [4, 5, 6],\n",
    "\t\t'C': [7, 8, 9]}\n",
    "\n",
    "\t# Convert the dictionary into DataFrame\n",
    "\tdf = pd.DataFrame(data)\n",
    "\tprint(\"Original DataFrame:\\n\", df)\n",
    "\n",
    "\t# Apply the user-defined function to every row\n",
    "\tdf['add'] = df.apply(add_values, axis=1)\n",
    "\n",
    "\tprint('\\nAfter Applying Function: ')\n",
    "\t# Print the new DataFrame\n",
    "\tprint(df)\n",
    "\n",
    "if __name__ == '__main__':\n",
    "\tmain()\n"
   ]
  },
  {
   "cell_type": "code",
   "execution_count": 4,
   "id": "0a7429da-3a10-46b2-848a-644d4bf55f63",
   "metadata": {},
   "outputs": [
    {
     "name": "stdout",
     "output_type": "stream",
     "text": [
      "Original DataFrame:\n",
      "    A  B  C\n",
      "0  1  4  7\n",
      "1  2  5  8\n",
      "2  3  6  9\n",
      "\n",
      "After Applying Function: \n",
      "   A  B  C  add\n",
      "0  1  4  7   12\n",
      "1  2  5  8   15\n",
      "2  3  6  9   18\n"
     ]
    }
   ],
   "source": [
    "# Import pandas package\n",
    "import pandas as pd\n",
    "# Function to add\n",
    "\n",
    "def add(a, b, c):\n",
    "\treturn a + b + c\n",
    "\n",
    "def main():\n",
    "\t# create a dictionary with\n",
    "\t# three fields each\n",
    "\tdata = {\n",
    "\t\t'A': [1, 2, 3],\n",
    "\t\t'B': [4, 5, 6],\n",
    "\t\t'C': [7, 8, 9]}\n",
    "\n",
    "\t# Convert the dictionary into DataFrame\n",
    "\tdf = pd.DataFrame(data)\n",
    "\tprint(\"Original DataFrame:\\n\", df)\n",
    "\n",
    "\tdf['add'] = df.apply(lambda row: add(row['A'],\n",
    "\t\t\t\t\t\t\t\t\t\trow['B'], row['C']), axis=1)\n",
    "\n",
    "\tprint('\\nAfter Applying Function: ')\n",
    "\t# printing the new dataframe\n",
    "\tprint(df)\n",
    "\n",
    "if __name__ == '__main__':\n",
    "\tmain()\n"
   ]
  },
  {
   "cell_type": "markdown",
   "id": "b228ce8d-9bcd-44fb-b3ab-d1210a103fc8",
   "metadata": {},
   "source": [
    "Apply NumPy.sum() to Every Row :"
   ]
  },
  {
   "cell_type": "code",
   "execution_count": 5,
   "id": "5326ed41-a4ca-429f-b87a-ee493deb5049",
   "metadata": {},
   "outputs": [
    {
     "name": "stdout",
     "output_type": "stream",
     "text": [
      "Original DataFrame:\n",
      "    A  B  C\n",
      "0  1  4  7\n",
      "1  2  5  8\n",
      "2  3  6  9\n",
      "\n",
      "After Applying Function: \n",
      "   A  B  C  add\n",
      "0  1  4  7   12\n",
      "1  2  5  8   15\n",
      "2  3  6  9   18\n"
     ]
    }
   ],
   "source": [
    "import pandas as pd\n",
    "import numpy as np\n",
    "\n",
    "def main():\n",
    "\t# create a dictionary with\n",
    "\t# five fields each\n",
    "\tdata = {\n",
    "\t\t'A': [1, 2, 3],\n",
    "\t\t'B': [4, 5, 6],\n",
    "\t\t'C': [7, 8, 9]}\n",
    "\n",
    "\t# Convert the dictionary into DataFrame\n",
    "\tdf = pd.DataFrame(data)\n",
    "\tprint(\"Original DataFrame:\\n\", df)\n",
    "\n",
    "\t# applying function to each row in the dataframe\n",
    "\t# and storing result in a new column\n",
    "\tdf['add'] = df.apply(np.sum, axis=1)\n",
    "\n",
    "\tprint('\\nAfter Applying Function: ')\n",
    "\t# printing the new dataframe\n",
    "\tprint(df)\n",
    "\n",
    "if __name__ == '__main__':\n",
    "\tmain()\n"
   ]
  },
  {
   "cell_type": "markdown",
   "id": "c1a6eb1b-d3da-4e06-a1e7-c99d4239afbb",
   "metadata": {},
   "source": [
    "Normalizing DataFrame Column Values Using Custom Function in Pandas :"
   ]
  },
  {
   "cell_type": "code",
   "execution_count": 6,
   "id": "aa15c03e-0d44-48bb-9da9-520eab3bd1ef",
   "metadata": {},
   "outputs": [
    {
     "name": "stdout",
     "output_type": "stream",
     "text": [
      "Original DataFrame:\n",
      "    X   Y\n",
      "0  1  45\n",
      "1  2  65\n",
      "2  3  89\n",
      "\n",
      "Normalized:\n",
      "     X   Y\n",
      "0 -0.5  45\n",
      "1 -0.5  65\n",
      "2 -0.5  89\n"
     ]
    }
   ],
   "source": [
    "# Import pandas package\n",
    "import pandas as pd\n",
    "\n",
    "def normalize(x, y):\n",
    "\tx_new = ((x - np.mean([x, y])) /\n",
    "\t\t\t(max(x, y) - min(x, y)))\n",
    "\n",
    "\t# print(x_new)\n",
    "\treturn x_new\n",
    "\n",
    "def main():\n",
    "\t# create a dictionary with three fields each\n",
    "\tdata = {\n",
    "\t\t'X': [1, 2, 3],\n",
    "\t\t'Y': [45, 65, 89]}\n",
    "\n",
    "\t# Convert the dictionary into DataFrame\n",
    "\tdf = pd.DataFrame(data)\n",
    "\tprint(\"Original DataFrame:\\n\", df)\n",
    "\n",
    "\tdf['X'] = df.apply(lambda row: normalize(row['X'],\n",
    "\t\t\t\t\t\t\t\t\t\t\trow['Y']), axis=1)\n",
    "\n",
    "\tprint('\\nNormalized:')\n",
    "\tprint(df)\n",
    "\n",
    "if __name__ == '__main__':\n",
    "\tmain()\n"
   ]
  },
  {
   "cell_type": "markdown",
   "id": "1d9f7b52-1ecb-4db5-b9cb-7146e5df3c9a",
   "metadata": {},
   "source": [
    "Applying Range Generation Function to DataFrame Rows in Pandas :"
   ]
  },
  {
   "cell_type": "code",
   "execution_count": 7,
   "id": "90de65fb-20ef-4c76-9b4f-99e78f622d1c",
   "metadata": {},
   "outputs": [
    {
     "name": "stdout",
     "output_type": "stream",
     "text": [
      "Before applying function: \n",
      "   A   B   C\n",
      "0  0   4  47\n",
      "1  2  15   8\n",
      "2  3   6  19\n",
      "After Applying Function: \n",
      "      A      B      C\n",
      "0  0-10   0-10  40-50\n",
      "1  0-10  10-20   0-10\n",
      "2  0-10   0-10  10-20\n"
     ]
    },
    {
     "name": "stderr",
     "output_type": "stream",
     "text": [
      "C:\\Users\\vishn\\AppData\\Local\\Temp\\ipykernel_57224\\3905892825.py:24: FutureWarning: Setting an item of incompatible dtype is deprecated and will raise in a future error of pandas. Value '0-10' has dtype incompatible with int64, please explicitly cast to a compatible dtype first.\n",
      "  row[i] = generate_range(item)\n",
      "C:\\Users\\vishn\\AppData\\Local\\Temp\\ipykernel_57224\\3905892825.py:24: FutureWarning: Setting an item of incompatible dtype is deprecated and will raise in a future error of pandas. Value '0-10' has dtype incompatible with int64, please explicitly cast to a compatible dtype first.\n",
      "  row[i] = generate_range(item)\n",
      "C:\\Users\\vishn\\AppData\\Local\\Temp\\ipykernel_57224\\3905892825.py:24: FutureWarning: Setting an item of incompatible dtype is deprecated and will raise in a future error of pandas. Value '40-50' has dtype incompatible with int64, please explicitly cast to a compatible dtype first.\n",
      "  row[i] = generate_range(item)\n"
     ]
    }
   ],
   "source": [
    "import pandas as pd\n",
    "import numpy as np\n",
    "\n",
    "pd.options.mode.chained_assignment = None\n",
    "\n",
    "# Function to generate range\n",
    "\n",
    "def generate_range(n):\n",
    "\n",
    "\t# printing the range for eg:\n",
    "\t# input is 67 output is 60-70\n",
    "\tn = int(n)\n",
    "\n",
    "\tlower_limit = n//10 * 10\n",
    "\tupper_limit = lower_limit + 10\n",
    "\n",
    "\treturn str(str(lower_limit) + '-' + str(upper_limit))\n",
    "\n",
    "\n",
    "def replace(row):\n",
    "\tfor i, item in enumerate(row):\n",
    "\n",
    "\t\t# updating the value of the row\n",
    "\t\trow[i] = generate_range(item)\n",
    "\treturn row\n",
    "\n",
    "def main():\n",
    "\t# create a dictionary with\n",
    "\t# three fields each\n",
    "\tdata = {\n",
    "\t\t'A': [0, 2, 3],\n",
    "\t\t'B': [4, 15, 6],\n",
    "\t\t'C': [47, 8, 19]}\n",
    "\n",
    "\t# Convert the dictionary into DataFrame\n",
    "\tdf = pd.DataFrame(data)\n",
    "\n",
    "\tprint('Before applying function: ')\n",
    "\tprint(df)\n",
    "\n",
    "\t# applying function to each row in\n",
    "\t# dataframe and storing result in a new column\n",
    "\tdf = df.apply(lambda row: replace(row))\n",
    "\n",
    "\tprint('After Applying Function: ')\n",
    "\t# printing the new dataframe\n",
    "\tprint(df)\n",
    "\n",
    "\n",
    "if __name__ == '__main__':\n",
    "\tmain()\n"
   ]
  },
  {
   "cell_type": "markdown",
   "id": "3cab4e6e-004f-4a88-8975-5b2bf9fa48b0",
   "metadata": {},
   "source": [
    "Pandas Series.apply() :"
   ]
  },
  {
   "cell_type": "code",
   "execution_count": 8,
   "id": "e659e924-58a7-4913-8c99-302d5505952c",
   "metadata": {},
   "outputs": [
    {
     "name": "stdout",
     "output_type": "stream",
     "text": [
      "City 1    New York\n",
      "City 2     Chicago\n",
      "City 3     Toronto\n",
      "City 4      Lisbon\n",
      "City 5         Rio\n",
      "dtype: object\n"
     ]
    }
   ],
   "source": [
    "# importing pandas as pd \n",
    "import pandas as pd \n",
    "\n",
    "# Creating the Series \n",
    "sr = pd.Series(['New York', 'Chicago', 'Toronto', 'Lisbon', 'Rio']) \n",
    "\n",
    "# Create the Index \n",
    "index = ['City 1', 'City 2', 'City 3', 'City 4', 'City 5'] \n",
    "\n",
    "# set the index \n",
    "sr.index = index \n",
    "\n",
    "# Print the series \n",
    "print(sr) \n"
   ]
  },
  {
   "cell_type": "code",
   "execution_count": 9,
   "id": "1b95f144-ec0f-4c49-9abb-833d6108f608",
   "metadata": {},
   "outputs": [
    {
     "name": "stdout",
     "output_type": "stream",
     "text": [
      "City 1    New York\n",
      "City 2     Chicago\n",
      "City 3     Toronto\n",
      "City 4      Lisbon\n",
      "City 5    Montreal\n",
      "dtype: object\n"
     ]
    }
   ],
   "source": [
    "# change 'Rio' to 'Montreal' \n",
    "# we have used a lambda function \n",
    "result = sr.apply(lambda x : 'Montreal' if x =='Rio' else x ) \n",
    "\n",
    "# Print the result \n",
    "print(result) \n"
   ]
  },
  {
   "cell_type": "code",
   "execution_count": 10,
   "id": "1867142f-7c72-40ac-afa6-c72abd57da78",
   "metadata": {},
   "outputs": [
    {
     "name": "stdout",
     "output_type": "stream",
     "text": [
      "2010-12-31 08:45:00    11.0\n",
      "2011-12-31 08:45:00    21.0\n",
      "2012-12-31 08:45:00     8.0\n",
      "2013-12-31 08:45:00    18.0\n",
      "2014-12-31 08:45:00    65.0\n",
      "2015-12-31 08:45:00    18.0\n",
      "2016-12-31 08:45:00    32.0\n",
      "2017-12-31 08:45:00    10.0\n",
      "2018-12-31 08:45:00     5.0\n",
      "2019-12-31 08:45:00    32.0\n",
      "2020-12-31 08:45:00     NaN\n",
      "Freq: A-DEC, dtype: float64\n"
     ]
    }
   ],
   "source": [
    "# importing pandas as pd \n",
    "import pandas as pd \n",
    "\n",
    "# Creating the Series \n",
    "sr = pd.Series([11, 21, 8, 18, 65, 18, 32, 10, 5, 32, None]) \n",
    "\n",
    "# Create the Index \n",
    "# apply yearly frequency \n",
    "index_ = pd.date_range('2010-10-09 08:45', periods = 11, freq ='Y') \n",
    "\n",
    "# set the index \n",
    "sr.index = index_ \n",
    "\n",
    "# Print the series \n",
    "print(sr) \n"
   ]
  },
  {
   "cell_type": "code",
   "execution_count": 11,
   "id": "2a4fdff3-08a5-46ac-abdb-608acea80464",
   "metadata": {},
   "outputs": [
    {
     "name": "stdout",
     "output_type": "stream",
     "text": [
      "2010-12-31 08:45:00    False\n",
      "2011-12-31 08:45:00    False\n",
      "2012-12-31 08:45:00    False\n",
      "2013-12-31 08:45:00    False\n",
      "2014-12-31 08:45:00     True\n",
      "2015-12-31 08:45:00    False\n",
      "2016-12-31 08:45:00     True\n",
      "2017-12-31 08:45:00    False\n",
      "2018-12-31 08:45:00    False\n",
      "2019-12-31 08:45:00     True\n",
      "2020-12-31 08:45:00    False\n",
      "Freq: A-DEC, dtype: bool\n"
     ]
    }
   ],
   "source": [
    "# return True if greater than 30 \n",
    "# else return False \n",
    "result = sr.apply(lambda x : True if x>30 else False) \n",
    "\n",
    "# Print the result \n",
    "print(result) \n"
   ]
  },
  {
   "cell_type": "markdown",
   "id": "f107790b-e813-417c-9069-5fa1d4e8c98a",
   "metadata": {},
   "source": [
    "Pandas DataFrame mean() Method :"
   ]
  },
  {
   "cell_type": "code",
   "execution_count": 12,
   "id": "d3cedbca-d3c7-43a1-93c6-87ffcdac259b",
   "metadata": {},
   "outputs": [
    {
     "data": {
      "text/html": [
       "<div>\n",
       "<style scoped>\n",
       "    .dataframe tbody tr th:only-of-type {\n",
       "        vertical-align: middle;\n",
       "    }\n",
       "\n",
       "    .dataframe tbody tr th {\n",
       "        vertical-align: top;\n",
       "    }\n",
       "\n",
       "    .dataframe thead th {\n",
       "        text-align: right;\n",
       "    }\n",
       "</style>\n",
       "<table border=\"1\" class=\"dataframe\">\n",
       "  <thead>\n",
       "    <tr style=\"text-align: right;\">\n",
       "      <th></th>\n",
       "      <th>A</th>\n",
       "      <th>B</th>\n",
       "      <th>C</th>\n",
       "      <th>D</th>\n",
       "    </tr>\n",
       "  </thead>\n",
       "  <tbody>\n",
       "    <tr>\n",
       "      <th>0</th>\n",
       "      <td>12</td>\n",
       "      <td>5</td>\n",
       "      <td>20</td>\n",
       "      <td>14</td>\n",
       "    </tr>\n",
       "    <tr>\n",
       "      <th>1</th>\n",
       "      <td>4</td>\n",
       "      <td>2</td>\n",
       "      <td>16</td>\n",
       "      <td>3</td>\n",
       "    </tr>\n",
       "    <tr>\n",
       "      <th>2</th>\n",
       "      <td>5</td>\n",
       "      <td>54</td>\n",
       "      <td>7</td>\n",
       "      <td>17</td>\n",
       "    </tr>\n",
       "    <tr>\n",
       "      <th>3</th>\n",
       "      <td>44</td>\n",
       "      <td>3</td>\n",
       "      <td>3</td>\n",
       "      <td>2</td>\n",
       "    </tr>\n",
       "    <tr>\n",
       "      <th>4</th>\n",
       "      <td>1</td>\n",
       "      <td>2</td>\n",
       "      <td>8</td>\n",
       "      <td>6</td>\n",
       "    </tr>\n",
       "  </tbody>\n",
       "</table>\n",
       "</div>"
      ],
      "text/plain": [
       "    A   B   C   D\n",
       "0  12   5  20  14\n",
       "1   4   2  16   3\n",
       "2   5  54   7  17\n",
       "3  44   3   3   2\n",
       "4   1   2   8   6"
      ]
     },
     "execution_count": 12,
     "metadata": {},
     "output_type": "execute_result"
    }
   ],
   "source": [
    "# importing pandas as pd \n",
    "import pandas as pd \n",
    "\n",
    "# Creating the dataframe \n",
    "df = pd.DataFrame({\"A\":[12, 4, 5, 44, 1], \n",
    "\t\t\t\t\"B\":[5, 2, 54, 3, 2], \n",
    "\t\t\t\t\"C\":[20, 16, 7, 3, 8], \n",
    "\t\t\t\t\"D\":[14, 3, 17, 2, 6]}) \n",
    "\n",
    "# Print the dataframe \n",
    "df \n"
   ]
  },
  {
   "cell_type": "code",
   "execution_count": 13,
   "id": "eb65a13b-627d-4a29-8f4b-b47b65be629d",
   "metadata": {},
   "outputs": [
    {
     "data": {
      "text/plain": [
       "A    13.2\n",
       "B    13.2\n",
       "C    10.8\n",
       "D     8.4\n",
       "dtype: float64"
      ]
     },
     "execution_count": 13,
     "metadata": {},
     "output_type": "execute_result"
    }
   ],
   "source": [
    "# Even if we do not specify axis = 0, \n",
    "# the method will return the mean over \n",
    "# the index axis by default \n",
    "df.mean(axis = 0) \n"
   ]
  },
  {
   "cell_type": "code",
   "execution_count": 15,
   "id": "90e9b255-5922-44cb-a99d-33ef167dd8fa",
   "metadata": {},
   "outputs": [
    {
     "data": {
      "text/plain": [
       "0    13.250000\n",
       "1     6.250000\n",
       "2    23.333333\n",
       "3     2.666667\n",
       "4     5.000000\n",
       "dtype: float64"
      ]
     },
     "execution_count": 15,
     "metadata": {},
     "output_type": "execute_result"
    }
   ],
   "source": [
    "# importing pandas as pd \n",
    "import pandas as pd \n",
    "\n",
    "# Creating the dataframe \n",
    "df = pd.DataFrame({\"A\":[12, 4, 5, None, 1], \n",
    "\t\t\t\t\"B\":[7, 2, 54, 3, None], \n",
    "\t\t\t\t\"C\":[20, 16, 11, 3, 8], \n",
    "\t\t\t\t\"D\":[14, 3, None, 2, 6]}) \n",
    "\n",
    "# skip the Na values while finding the mean \n",
    "df.mean(axis = 1, skipna = True) \n"
   ]
  },
  {
   "cell_type": "markdown",
   "id": "29ba04e5-2ba6-43ba-be40-3d744f2df450",
   "metadata": {},
   "source": [
    "Pandas Series.mean() :"
   ]
  },
  {
   "cell_type": "code",
   "execution_count": 17,
   "id": "6f4dc33f-9645-4a6c-9b34-29cf4e5d2d94",
   "metadata": {},
   "outputs": [
    {
     "name": "stdout",
     "output_type": "stream",
     "text": [
      "Coca Cola    10\n",
      "Sprite       25\n",
      "Coke          3\n",
      "Fanta        25\n",
      "Dew          24\n",
      "ThumbsUp      6\n",
      "dtype: int64\n"
     ]
    }
   ],
   "source": [
    "# importing pandas as pd \n",
    "import pandas as pd \n",
    "\n",
    "# Creating the Series \n",
    "sr = pd.Series([10, 25, 3, 25, 24, 6]) \n",
    "\n",
    "# Create the Index \n",
    "index_ = ['Coca Cola', 'Sprite', 'Coke', 'Fanta', 'Dew', 'ThumbsUp'] \n",
    "\n",
    "# set the index \n",
    "sr.index = index_ \n",
    "\n",
    "# Print the series \n",
    "print(sr) \n"
   ]
  },
  {
   "cell_type": "code",
   "execution_count": 18,
   "id": "e5c15b96-098e-4a4b-8020-d7b04480b1e1",
   "metadata": {},
   "outputs": [
    {
     "name": "stdout",
     "output_type": "stream",
     "text": [
      "15.5\n"
     ]
    }
   ],
   "source": [
    "# return the mean \n",
    "result = sr.mean() \n",
    "\n",
    "# Print the result \n",
    "print(result) \n"
   ]
  },
  {
   "cell_type": "code",
   "execution_count": 19,
   "id": "705b2298-ba8e-4a10-b940-68815fd87be7",
   "metadata": {},
   "outputs": [
    {
     "name": "stdout",
     "output_type": "stream",
     "text": [
      "0    19.5000\n",
      "1    16.8000\n",
      "2        NaN\n",
      "3    22.7800\n",
      "4    16.8000\n",
      "5    20.1240\n",
      "6        NaN\n",
      "7    18.1002\n",
      "8    19.5000\n",
      "dtype: float64\n"
     ]
    }
   ],
   "source": [
    "# importing pandas as pd \n",
    "import pandas as pd \n",
    "\n",
    "# Creating the Series \n",
    "sr = pd.Series([19.5, 16.8, None, 22.78, 16.8, 20.124, None, 18.1002, 19.5]) \n",
    "\n",
    "# Print the series \n",
    "print(sr) \n"
   ]
  },
  {
   "cell_type": "code",
   "execution_count": 20,
   "id": "76d8704c-3723-4237-8654-6819359435c4",
   "metadata": {},
   "outputs": [
    {
     "name": "stdout",
     "output_type": "stream",
     "text": [
      "19.086314285714284\n"
     ]
    }
   ],
   "source": [
    "# return the mean \n",
    "# skip all the missing values \n",
    "result = sr.mean(skipna = True) \n",
    "\n",
    "# Print the result \n",
    "print(result) \n"
   ]
  },
  {
   "cell_type": "markdown",
   "id": "62f5a1bf-705f-4db0-b149-db2247d180e0",
   "metadata": {},
   "source": [
    "Pandas dataframe.mad() :"
   ]
  },
  {
   "cell_type": "code",
   "execution_count": 21,
   "id": "9f950db6-a726-4f27-8229-339a4a06d459",
   "metadata": {},
   "outputs": [
    {
     "data": {
      "text/html": [
       "<div>\n",
       "<style scoped>\n",
       "    .dataframe tbody tr th:only-of-type {\n",
       "        vertical-align: middle;\n",
       "    }\n",
       "\n",
       "    .dataframe tbody tr th {\n",
       "        vertical-align: top;\n",
       "    }\n",
       "\n",
       "    .dataframe thead th {\n",
       "        text-align: right;\n",
       "    }\n",
       "</style>\n",
       "<table border=\"1\" class=\"dataframe\">\n",
       "  <thead>\n",
       "    <tr style=\"text-align: right;\">\n",
       "      <th></th>\n",
       "      <th>A</th>\n",
       "      <th>B</th>\n",
       "      <th>C</th>\n",
       "      <th>D</th>\n",
       "    </tr>\n",
       "  </thead>\n",
       "  <tbody>\n",
       "    <tr>\n",
       "      <th>0</th>\n",
       "      <td>12</td>\n",
       "      <td>5</td>\n",
       "      <td>20</td>\n",
       "      <td>14</td>\n",
       "    </tr>\n",
       "    <tr>\n",
       "      <th>1</th>\n",
       "      <td>4</td>\n",
       "      <td>2</td>\n",
       "      <td>16</td>\n",
       "      <td>3</td>\n",
       "    </tr>\n",
       "    <tr>\n",
       "      <th>2</th>\n",
       "      <td>5</td>\n",
       "      <td>54</td>\n",
       "      <td>7</td>\n",
       "      <td>17</td>\n",
       "    </tr>\n",
       "    <tr>\n",
       "      <th>3</th>\n",
       "      <td>44</td>\n",
       "      <td>3</td>\n",
       "      <td>3</td>\n",
       "      <td>2</td>\n",
       "    </tr>\n",
       "    <tr>\n",
       "      <th>4</th>\n",
       "      <td>1</td>\n",
       "      <td>2</td>\n",
       "      <td>8</td>\n",
       "      <td>6</td>\n",
       "    </tr>\n",
       "  </tbody>\n",
       "</table>\n",
       "</div>"
      ],
      "text/plain": [
       "    A   B   C   D\n",
       "0  12   5  20  14\n",
       "1   4   2  16   3\n",
       "2   5  54   7  17\n",
       "3  44   3   3   2\n",
       "4   1   2   8   6"
      ]
     },
     "execution_count": 21,
     "metadata": {},
     "output_type": "execute_result"
    }
   ],
   "source": [
    "# importing pandas as pd \n",
    "import pandas as pd \n",
    "\n",
    "# Creating the dataframe \n",
    "df = pd.DataFrame({\"A\":[12, 4, 5, 44, 1], \n",
    "\t\t\t\t\"B\":[5, 2, 54, 3, 2], \n",
    "\t\t\t\t\"C\":[20, 16, 7, 3, 8], \n",
    "\t\t\t\t\"D\":[14, 3, 17, 2, 6]}) \n",
    "\n",
    "# Print the dataframe \n",
    "df \n",
    "# find the mean absolute deviation  \n",
    "# over the index axis \n",
    "df.mad(axis = 0) "
   ]
  },
  {
   "cell_type": "markdown",
   "id": "9b04c3b0-490c-49a2-bd29-367dad2b75cf",
   "metadata": {},
   "source": [
    "Pandas Series.mad() to calculate Mean Absolute Deviation of a Series :"
   ]
  },
  {
   "cell_type": "code",
   "execution_count": null,
   "id": "8ad90680-6f8d-4eb1-9eb2-346cdaafdaa0",
   "metadata": {},
   "outputs": [],
   "source": [
    "# importing pandas module  \n",
    "import pandas as pd  \n",
    "    \n",
    "# importing numpy module  \n",
    "import numpy as np  \n",
    "    \n",
    "# creating list \n",
    "list =[5, 12, 1, 0, 4, 22, 15, 3, 9] \n",
    "  \n",
    "# creating series \n",
    "series = pd.Series(list) \n",
    "  \n",
    "# calling .mad() method \n",
    "result = series.mad() \n",
    "  \n",
    "# display \n",
    "result \n"
   ]
  },
  {
   "cell_type": "markdown",
   "id": "4eed82bc-ab45-4fc3-92d6-f7c12b5c342b",
   "metadata": {},
   "source": [
    "Output:\n",
    "\n",
    "5.876543209876543\n"
   ]
  },
  {
   "cell_type": "markdown",
   "id": "fa08c5b0-8452-4c2e-881d-c078d4038c43",
   "metadata": {},
   "source": [
    "Pandas dataframe.sem() :"
   ]
  },
  {
   "cell_type": "code",
   "execution_count": 29,
   "id": "555b934e-3eab-4f93-b30e-3bce7c72ea9f",
   "metadata": {},
   "outputs": [
    {
     "data": {
      "text/html": [
       "<div>\n",
       "<style scoped>\n",
       "    .dataframe tbody tr th:only-of-type {\n",
       "        vertical-align: middle;\n",
       "    }\n",
       "\n",
       "    .dataframe tbody tr th {\n",
       "        vertical-align: top;\n",
       "    }\n",
       "\n",
       "    .dataframe thead th {\n",
       "        text-align: right;\n",
       "    }\n",
       "</style>\n",
       "<table border=\"1\" class=\"dataframe\">\n",
       "  <thead>\n",
       "    <tr style=\"text-align: right;\">\n",
       "      <th></th>\n",
       "      <th>area</th>\n",
       "      <th>bedrooms</th>\n",
       "      <th>age</th>\n",
       "      <th>price</th>\n",
       "    </tr>\n",
       "  </thead>\n",
       "  <tbody>\n",
       "    <tr>\n",
       "      <th>0</th>\n",
       "      <td>2600</td>\n",
       "      <td>3.0</td>\n",
       "      <td>20</td>\n",
       "      <td>550000</td>\n",
       "    </tr>\n",
       "    <tr>\n",
       "      <th>1</th>\n",
       "      <td>3000</td>\n",
       "      <td>4.0</td>\n",
       "      <td>15</td>\n",
       "      <td>565000</td>\n",
       "    </tr>\n",
       "    <tr>\n",
       "      <th>2</th>\n",
       "      <td>3200</td>\n",
       "      <td>NaN</td>\n",
       "      <td>18</td>\n",
       "      <td>610000</td>\n",
       "    </tr>\n",
       "    <tr>\n",
       "      <th>3</th>\n",
       "      <td>3600</td>\n",
       "      <td>3.0</td>\n",
       "      <td>30</td>\n",
       "      <td>595000</td>\n",
       "    </tr>\n",
       "    <tr>\n",
       "      <th>4</th>\n",
       "      <td>4000</td>\n",
       "      <td>5.0</td>\n",
       "      <td>8</td>\n",
       "      <td>760000</td>\n",
       "    </tr>\n",
       "    <tr>\n",
       "      <th>5</th>\n",
       "      <td>4100</td>\n",
       "      <td>6.0</td>\n",
       "      <td>8</td>\n",
       "      <td>810000</td>\n",
       "    </tr>\n",
       "  </tbody>\n",
       "</table>\n",
       "</div>"
      ],
      "text/plain": [
       "   area  bedrooms  age   price\n",
       "0  2600       3.0   20  550000\n",
       "1  3000       4.0   15  565000\n",
       "2  3200       NaN   18  610000\n",
       "3  3600       3.0   30  595000\n",
       "4  4000       5.0    8  760000\n",
       "5  4100       6.0    8  810000"
      ]
     },
     "execution_count": 29,
     "metadata": {},
     "output_type": "execute_result"
    }
   ],
   "source": [
    "# importing pandas as pd \n",
    "import pandas as pd \n",
    "\n",
    "# Creating the dataframe \n",
    "df = pd.read_csv(\"homeprices.csv\") \n",
    "\n",
    "# Print the dataframe \n",
    "df \n"
   ]
  },
  {
   "cell_type": "code",
   "execution_count": 30,
   "id": "cc864299-6084-48a3-98b9-f3e8a93187c8",
   "metadata": {},
   "outputs": [
    {
     "data": {
      "text/plain": [
       "0    137282.772462\n",
       "1    141000.178531\n",
       "2              NaN\n",
       "3    148449.653008\n",
       "4    189667.919016\n",
       "5    202159.468583\n",
       "dtype: float64"
      ]
     },
     "execution_count": 30,
     "metadata": {},
     "output_type": "execute_result"
    }
   ],
   "source": [
    "# importing pandas as pd \n",
    "import pandas as pd \n",
    "\n",
    "# Creating the dataframe \n",
    "df = pd.read_csv(\"homeprices.csv\") \n",
    "\n",
    "# Calculate the standard error of \n",
    "# the mean of all the rows in dataframe \n",
    "df.sem(axis = 1, skipna = False) \n"
   ]
  },
  {
   "cell_type": "markdown",
   "id": "7523cbf1-d517-46e3-8d96-725720207812",
   "metadata": {},
   "source": [
    "Pandas Series.value_counts() :"
   ]
  },
  {
   "cell_type": "code",
   "execution_count": 31,
   "id": "66fd12af-2d83-4edf-88e5-0f420f704e3b",
   "metadata": {},
   "outputs": [
    {
     "name": "stdout",
     "output_type": "stream",
     "text": [
      "0    New York\n",
      "1     Chicago\n",
      "2     Toronto\n",
      "3      Lisbon\n",
      "4         Rio\n",
      "5     Chicago\n",
      "6      Lisbon\n",
      "dtype: object\n"
     ]
    }
   ],
   "source": [
    "# importing pandas as pd \n",
    "import pandas as pd \n",
    "\n",
    "# Creating the Series \n",
    "sr = pd.Series(['New York', 'Chicago', 'Toronto', 'Lisbon', 'Rio', 'Chicago', 'Lisbon']) \n",
    "\n",
    "# Print the series \n",
    "print(sr) \n"
   ]
  },
  {
   "cell_type": "code",
   "execution_count": 32,
   "id": "53a22a67-10a6-40a0-a634-591d0e4c2176",
   "metadata": {},
   "outputs": [
    {
     "data": {
      "text/plain": [
       "Chicago     2\n",
       "Lisbon      2\n",
       "New York    1\n",
       "Toronto     1\n",
       "Rio         1\n",
       "Name: count, dtype: int64"
      ]
     },
     "execution_count": 32,
     "metadata": {},
     "output_type": "execute_result"
    }
   ],
   "source": [
    "# find the value counts \n",
    "sr.value_counts() \n"
   ]
  },
  {
   "cell_type": "markdown",
   "id": "dbf8f0e9-2abe-41e6-849c-6e26cd620bf4",
   "metadata": {},
   "source": [
    "Pandas Index.value_counts() :"
   ]
  },
  {
   "cell_type": "code",
   "execution_count": 33,
   "id": "28df5e12-71fd-4480-b72b-5287df0dca85",
   "metadata": {},
   "outputs": [
    {
     "name": "stdout",
     "output_type": "stream",
     "text": [
      "Index(['Harry', 'Mike', 'Arther', 'Nick', 'Harry', 'Arther'], dtype='object', name='Student')\n"
     ]
    }
   ],
   "source": [
    "# importing pandas as pd\n",
    "import pandas as pd\n",
    "\n",
    "# Creating the index\n",
    "idx = pd.Index(['Harry', 'Mike', 'Arther', 'Nick',\n",
    "\t\t\t\t'Harry', 'Arther'], name ='Student')\n",
    "\n",
    "# Print the Index\n",
    "print(idx)\n"
   ]
  },
  {
   "cell_type": "code",
   "execution_count": 34,
   "id": "060c387e-1fd0-4f2e-a27f-46cbc717597f",
   "metadata": {},
   "outputs": [
    {
     "data": {
      "text/plain": [
       "Student\n",
       "Harry     2\n",
       "Arther    2\n",
       "Mike      1\n",
       "Nick      1\n",
       "Name: count, dtype: int64"
      ]
     },
     "execution_count": 34,
     "metadata": {},
     "output_type": "execute_result"
    }
   ],
   "source": [
    "# find the count of unique values in the index\n",
    "idx.value_counts()\n"
   ]
  },
  {
   "cell_type": "code",
   "execution_count": 35,
   "id": "36626422-935c-4174-be3d-7168b1d7dbdd",
   "metadata": {},
   "outputs": [
    {
     "name": "stdout",
     "output_type": "stream",
     "text": [
      "Index([21, 10, 30, 40, 50, 10, 50], dtype='int64')\n"
     ]
    }
   ],
   "source": [
    "# importing pandas as pd\n",
    "import pandas as pd\n",
    "\n",
    "# Creating the index\n",
    "idx = pd.Index([21, 10, 30, 40, 50, 10, 50])\n",
    "\n",
    "# Print the Index\n",
    "print(idx)\n"
   ]
  },
  {
   "cell_type": "code",
   "execution_count": 36,
   "id": "83ad783a-65f8-4eb0-ae29-317b67112589",
   "metadata": {},
   "outputs": [
    {
     "data": {
      "text/plain": [
       "10    2\n",
       "50    2\n",
       "21    1\n",
       "30    1\n",
       "40    1\n",
       "Name: count, dtype: int64"
      ]
     },
     "execution_count": 36,
     "metadata": {},
     "output_type": "execute_result"
    }
   ],
   "source": [
    "# for finding the count of all \n",
    "# unique values in the index.\n",
    "idx.value_counts()\n"
   ]
  },
  {
   "cell_type": "markdown",
   "id": "953f639a-66cf-4f05-a2e6-c5c16b6dc1e6",
   "metadata": {},
   "source": [
    "Applying Lambda functions to Pandas Dataframe :"
   ]
  },
  {
   "cell_type": "code",
   "execution_count": null,
   "id": "ab78d4d6-a933-42bc-8bcb-73280e8d7f6c",
   "metadata": {},
   "outputs": [],
   "source": [
    "# importing pandas library\n",
    "import pandas as pd\n",
    "\n",
    "# creating and initializing a list\n",
    "values= [['Rohan',455],['Elvish',250],['Deepak',495],\n",
    "\t\t['Soni',400],['Radhika',350],['Vansh',450]] \n",
    "\n",
    "# creating a pandas dataframe\n",
    "df = pd.DataFrame(values,columns=['Name','Total_Marks'])\n",
    "\n",
    "# Applying lambda function to find \n",
    "# percentage of 'Total_Marks' column \n",
    "# using df.assign()\n",
    "df = df.assign(Percentage = lambda x: (x['Total_Marks'] /500 * 100))\n",
    "\n",
    "# displaying the data frame\n",
    "df\n"
   ]
  }
 ],
 "metadata": {
  "kernelspec": {
   "display_name": "Python 3 (ipykernel)",
   "language": "python",
   "name": "python3"
  },
  "language_info": {
   "codemirror_mode": {
    "name": "ipython",
    "version": 3
   },
   "file_extension": ".py",
   "mimetype": "text/x-python",
   "name": "python",
   "nbconvert_exporter": "python",
   "pygments_lexer": "ipython3",
   "version": "3.11.7"
  }
 },
 "nbformat": 4,
 "nbformat_minor": 5
}
