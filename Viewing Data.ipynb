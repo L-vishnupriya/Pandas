{
 "cells": [
  {
   "cell_type": "markdown",
   "id": "21408b31-52e6-4492-a139-2d19cec20fa5",
   "metadata": {},
   "source": [
    "Pandas Dataframe/Series.head() method :"
   ]
  },
  {
   "cell_type": "code",
   "execution_count": 1,
   "id": "efa1c410-4d3b-47fd-ada9-b06a5fd7636b",
   "metadata": {},
   "outputs": [
    {
     "data": {
      "text/html": [
       "<div>\n",
       "<style scoped>\n",
       "    .dataframe tbody tr th:only-of-type {\n",
       "        vertical-align: middle;\n",
       "    }\n",
       "\n",
       "    .dataframe tbody tr th {\n",
       "        vertical-align: top;\n",
       "    }\n",
       "\n",
       "    .dataframe thead th {\n",
       "        text-align: right;\n",
       "    }\n",
       "</style>\n",
       "<table border=\"1\" class=\"dataframe\">\n",
       "  <thead>\n",
       "    <tr style=\"text-align: right;\">\n",
       "      <th></th>\n",
       "      <th>area</th>\n",
       "      <th>bedrooms</th>\n",
       "      <th>age</th>\n",
       "      <th>price</th>\n",
       "    </tr>\n",
       "  </thead>\n",
       "  <tbody>\n",
       "    <tr>\n",
       "      <th>0</th>\n",
       "      <td>2600</td>\n",
       "      <td>3.0</td>\n",
       "      <td>20</td>\n",
       "      <td>550000</td>\n",
       "    </tr>\n",
       "    <tr>\n",
       "      <th>1</th>\n",
       "      <td>3000</td>\n",
       "      <td>4.0</td>\n",
       "      <td>15</td>\n",
       "      <td>565000</td>\n",
       "    </tr>\n",
       "    <tr>\n",
       "      <th>2</th>\n",
       "      <td>3200</td>\n",
       "      <td>NaN</td>\n",
       "      <td>18</td>\n",
       "      <td>610000</td>\n",
       "    </tr>\n",
       "    <tr>\n",
       "      <th>3</th>\n",
       "      <td>3600</td>\n",
       "      <td>3.0</td>\n",
       "      <td>30</td>\n",
       "      <td>595000</td>\n",
       "    </tr>\n",
       "    <tr>\n",
       "      <th>4</th>\n",
       "      <td>4000</td>\n",
       "      <td>5.0</td>\n",
       "      <td>8</td>\n",
       "      <td>760000</td>\n",
       "    </tr>\n",
       "  </tbody>\n",
       "</table>\n",
       "</div>"
      ],
      "text/plain": [
       "   area  bedrooms  age   price\n",
       "0  2600       3.0   20  550000\n",
       "1  3000       4.0   15  565000\n",
       "2  3200       NaN   18  610000\n",
       "3  3600       3.0   30  595000\n",
       "4  4000       5.0    8  760000"
      ]
     },
     "execution_count": 1,
     "metadata": {},
     "output_type": "execute_result"
    }
   ],
   "source": [
    "# importing pandas module \n",
    "import pandas as pd \n",
    "\n",
    "# making data frame \n",
    "data = pd.read_csv(\"homeprices.csv\") \n",
    "\n",
    "# calling head() method \n",
    "# storing in new variable \n",
    "data_top = data.head() \n",
    "\n",
    "# display \n",
    "data_top \n"
   ]
  },
  {
   "cell_type": "code",
   "execution_count": 2,
   "id": "d8731e6f-de37-4fab-8bf6-ddea905ccdc6",
   "metadata": {},
   "outputs": [
    {
     "data": {
      "text/plain": [
       "0    2600\n",
       "1    3000\n",
       "2    3200\n",
       "Name: area, dtype: int64"
      ]
     },
     "execution_count": 2,
     "metadata": {},
     "output_type": "execute_result"
    }
   ],
   "source": [
    "# importing pandas module \n",
    "import pandas as pd \n",
    "\n",
    "# making data frame \n",
    "data = pd.read_csv(\"homeprices.csv\") \n",
    "\n",
    "# number of rows to return \n",
    "n = 3\n",
    "\n",
    "# creating series \n",
    "series = data[\"area\"] \n",
    "\n",
    "# returning top n rows \n",
    "top = series.head(n = n) \n",
    "\n",
    "# display \n",
    "top \n"
   ]
  },
  {
   "cell_type": "markdown",
   "id": "0d7045fe-9e6c-487a-a8c6-0935eb92c53d",
   "metadata": {},
   "source": [
    "Pandas Dataframe/Series.tail() method :"
   ]
  },
  {
   "cell_type": "code",
   "execution_count": 3,
   "id": "15c9a4df-178a-4bd7-9b15-dd607c305e8e",
   "metadata": {},
   "outputs": [
    {
     "data": {
      "text/html": [
       "<div>\n",
       "<style scoped>\n",
       "    .dataframe tbody tr th:only-of-type {\n",
       "        vertical-align: middle;\n",
       "    }\n",
       "\n",
       "    .dataframe tbody tr th {\n",
       "        vertical-align: top;\n",
       "    }\n",
       "\n",
       "    .dataframe thead th {\n",
       "        text-align: right;\n",
       "    }\n",
       "</style>\n",
       "<table border=\"1\" class=\"dataframe\">\n",
       "  <thead>\n",
       "    <tr style=\"text-align: right;\">\n",
       "      <th></th>\n",
       "      <th>area</th>\n",
       "      <th>bedrooms</th>\n",
       "      <th>age</th>\n",
       "      <th>price</th>\n",
       "    </tr>\n",
       "  </thead>\n",
       "  <tbody>\n",
       "    <tr>\n",
       "      <th>1</th>\n",
       "      <td>3000</td>\n",
       "      <td>4.0</td>\n",
       "      <td>15</td>\n",
       "      <td>565000</td>\n",
       "    </tr>\n",
       "    <tr>\n",
       "      <th>2</th>\n",
       "      <td>3200</td>\n",
       "      <td>NaN</td>\n",
       "      <td>18</td>\n",
       "      <td>610000</td>\n",
       "    </tr>\n",
       "    <tr>\n",
       "      <th>3</th>\n",
       "      <td>3600</td>\n",
       "      <td>3.0</td>\n",
       "      <td>30</td>\n",
       "      <td>595000</td>\n",
       "    </tr>\n",
       "    <tr>\n",
       "      <th>4</th>\n",
       "      <td>4000</td>\n",
       "      <td>5.0</td>\n",
       "      <td>8</td>\n",
       "      <td>760000</td>\n",
       "    </tr>\n",
       "    <tr>\n",
       "      <th>5</th>\n",
       "      <td>4100</td>\n",
       "      <td>6.0</td>\n",
       "      <td>8</td>\n",
       "      <td>810000</td>\n",
       "    </tr>\n",
       "  </tbody>\n",
       "</table>\n",
       "</div>"
      ],
      "text/plain": [
       "   area  bedrooms  age   price\n",
       "1  3000       4.0   15  565000\n",
       "2  3200       NaN   18  610000\n",
       "3  3600       3.0   30  595000\n",
       "4  4000       5.0    8  760000\n",
       "5  4100       6.0    8  810000"
      ]
     },
     "execution_count": 3,
     "metadata": {},
     "output_type": "execute_result"
    }
   ],
   "source": [
    "# importing pandas module \n",
    "import pandas as pd \n",
    "  \n",
    "# making data frame \n",
    "data = pd.read_csv(\"homeprices.csv\") \n",
    "  \n",
    "# calling tail() method  \n",
    "# storing in new variable \n",
    "data_bottom = data.tail() \n",
    "  \n",
    "# display \n",
    "data_bottom "
   ]
  },
  {
   "cell_type": "code",
   "execution_count": 4,
   "id": "846ab3f9-c71b-4dd1-8413-6a5c1e095228",
   "metadata": {},
   "outputs": [
    {
     "data": {
      "text/plain": [
       "0    20\n",
       "1    15\n",
       "2    18\n",
       "3    30\n",
       "4     8\n",
       "5     8\n",
       "Name: age, dtype: int64"
      ]
     },
     "execution_count": 4,
     "metadata": {},
     "output_type": "execute_result"
    }
   ],
   "source": [
    "# importing pandas module \n",
    "import pandas as pd \n",
    "  \n",
    "# making data frame \n",
    "data = pd.read_csv(\"homeprices.csv\") \n",
    "  \n",
    "# number of rows to return \n",
    "n = 12\n",
    "  \n",
    "# creating series \n",
    "series = data[\"age\"] \n",
    "  \n",
    "# returning top n rows \n",
    "bottom = series.tail(n = n) \n",
    "  \n",
    "# display \n",
    "bottom "
   ]
  },
  {
   "cell_type": "markdown",
   "id": "c20968ab-a603-4697-b00d-f657cfc8cd56",
   "metadata": {},
   "source": [
    "Pandas DataFrame describe() :\n",
    "\n",
    "\n",
    "Pandas describe() is used to view some basic statistical details like percentile, mean, std, etc. of a data frame or a series of numeric values. "
   ]
  },
  {
   "cell_type": "code",
   "execution_count": 8,
   "id": "6a568912-8706-47a2-93d1-219f7d665c15",
   "metadata": {},
   "outputs": [
    {
     "name": "stdout",
     "output_type": "stream",
     "text": [
      "   area  bedrooms  age   price\n",
      "0  2600       3.0   20  550000\n",
      "1  3000       4.0   15  565000\n",
      "2  3200       NaN   18  610000\n",
      "3  3600       3.0   30  595000\n",
      "4  4000       5.0    8  760000\n"
     ]
    }
   ],
   "source": [
    "import pandas as pd\n",
    "# reading and printing csv file\n",
    "data = pd.read_csv('homeprices.csv')\n",
    "print(data.head())"
   ]
  },
  {
   "cell_type": "code",
   "execution_count": 9,
   "id": "575be936-10c0-48c2-ac99-7604f2edfb4c",
   "metadata": {},
   "outputs": [
    {
     "data": {
      "text/html": [
       "<div>\n",
       "<style scoped>\n",
       "    .dataframe tbody tr th:only-of-type {\n",
       "        vertical-align: middle;\n",
       "    }\n",
       "\n",
       "    .dataframe tbody tr th {\n",
       "        vertical-align: top;\n",
       "    }\n",
       "\n",
       "    .dataframe thead th {\n",
       "        text-align: right;\n",
       "    }\n",
       "</style>\n",
       "<table border=\"1\" class=\"dataframe\">\n",
       "  <thead>\n",
       "    <tr style=\"text-align: right;\">\n",
       "      <th></th>\n",
       "      <th>area</th>\n",
       "      <th>bedrooms</th>\n",
       "      <th>age</th>\n",
       "      <th>price</th>\n",
       "    </tr>\n",
       "  </thead>\n",
       "  <tbody>\n",
       "    <tr>\n",
       "      <th>count</th>\n",
       "      <td>5.000000</td>\n",
       "      <td>5.00000</td>\n",
       "      <td>5.000000</td>\n",
       "      <td>5.000000</td>\n",
       "    </tr>\n",
       "    <tr>\n",
       "      <th>mean</th>\n",
       "      <td>3460.000000</td>\n",
       "      <td>4.20000</td>\n",
       "      <td>16.200000</td>\n",
       "      <td>656000.000000</td>\n",
       "    </tr>\n",
       "    <tr>\n",
       "      <th>std</th>\n",
       "      <td>646.529195</td>\n",
       "      <td>1.30384</td>\n",
       "      <td>9.230385</td>\n",
       "      <td>120176.952865</td>\n",
       "    </tr>\n",
       "    <tr>\n",
       "      <th>min</th>\n",
       "      <td>2600.000000</td>\n",
       "      <td>3.00000</td>\n",
       "      <td>8.000000</td>\n",
       "      <td>550000.000000</td>\n",
       "    </tr>\n",
       "    <tr>\n",
       "      <th>20%</th>\n",
       "      <td>2920.000000</td>\n",
       "      <td>3.00000</td>\n",
       "      <td>8.000000</td>\n",
       "      <td>562000.000000</td>\n",
       "    </tr>\n",
       "    <tr>\n",
       "      <th>40%</th>\n",
       "      <td>3360.000000</td>\n",
       "      <td>3.60000</td>\n",
       "      <td>12.200000</td>\n",
       "      <td>583000.000000</td>\n",
       "    </tr>\n",
       "    <tr>\n",
       "      <th>50%</th>\n",
       "      <td>3600.000000</td>\n",
       "      <td>4.00000</td>\n",
       "      <td>15.000000</td>\n",
       "      <td>595000.000000</td>\n",
       "    </tr>\n",
       "    <tr>\n",
       "      <th>60%</th>\n",
       "      <td>3760.000000</td>\n",
       "      <td>4.40000</td>\n",
       "      <td>17.000000</td>\n",
       "      <td>661000.000000</td>\n",
       "    </tr>\n",
       "    <tr>\n",
       "      <th>80%</th>\n",
       "      <td>4020.000000</td>\n",
       "      <td>5.20000</td>\n",
       "      <td>22.000000</td>\n",
       "      <td>770000.000000</td>\n",
       "    </tr>\n",
       "    <tr>\n",
       "      <th>max</th>\n",
       "      <td>4100.000000</td>\n",
       "      <td>6.00000</td>\n",
       "      <td>30.000000</td>\n",
       "      <td>810000.000000</td>\n",
       "    </tr>\n",
       "  </tbody>\n",
       "</table>\n",
       "</div>"
      ],
      "text/plain": [
       "              area  bedrooms        age          price\n",
       "count     5.000000   5.00000   5.000000       5.000000\n",
       "mean   3460.000000   4.20000  16.200000  656000.000000\n",
       "std     646.529195   1.30384   9.230385  120176.952865\n",
       "min    2600.000000   3.00000   8.000000  550000.000000\n",
       "20%    2920.000000   3.00000   8.000000  562000.000000\n",
       "40%    3360.000000   3.60000  12.200000  583000.000000\n",
       "50%    3600.000000   4.00000  15.000000  595000.000000\n",
       "60%    3760.000000   4.40000  17.000000  661000.000000\n",
       "80%    4020.000000   5.20000  22.000000  770000.000000\n",
       "max    4100.000000   6.00000  30.000000  810000.000000"
      ]
     },
     "execution_count": 9,
     "metadata": {},
     "output_type": "execute_result"
    }
   ],
   "source": [
    "import pandas as pd\n",
    "data = pd.read_csv('homeprices.csv')\n",
    "\n",
    "# removing null values to avoid errors\n",
    "data.dropna(inplace=True)\n",
    "\n",
    "# percentile list\n",
    "perc = [.20, .40, .60, .80]\n",
    "\n",
    "# list of dtypes to include\n",
    "include = ['object', 'float', 'int']\n",
    "\n",
    "# calling describe method\n",
    "desc = data.describe(percentiles=perc, include=include)\n",
    "\n",
    "# display\n",
    "desc\n"
   ]
  },
  {
   "cell_type": "markdown",
   "id": "64915726-6ff4-4a24-b439-68c455f84471",
   "metadata": {},
   "source": [
    "Describing series of strings :"
   ]
  },
  {
   "cell_type": "code",
   "execution_count": 10,
   "id": "e2cac65a-1784-404a-8757-e7ebf4740086",
   "metadata": {},
   "outputs": [
    {
     "data": {
      "text/plain": [
       "count         5.000000\n",
       "mean     656000.000000\n",
       "std      120176.952865\n",
       "min      550000.000000\n",
       "25%      565000.000000\n",
       "50%      595000.000000\n",
       "75%      760000.000000\n",
       "max      810000.000000\n",
       "Name: price, dtype: float64"
      ]
     },
     "execution_count": 10,
     "metadata": {},
     "output_type": "execute_result"
    }
   ],
   "source": [
    "# importing pandas module\n",
    "import pandas as pd\n",
    "\n",
    "# making data frame\n",
    "data = pd.read_csv(\"homeprices.csv\")\n",
    "\n",
    "# removing null values to avoid errors\n",
    "data.dropna(inplace=True)\n",
    "\n",
    "# calling describe method\n",
    "desc = data[\"price\"].describe()\n",
    "\n",
    "# display\n",
    "desc\n"
   ]
  }
 ],
 "metadata": {
  "kernelspec": {
   "display_name": "Python 3 (ipykernel)",
   "language": "python",
   "name": "python3"
  },
  "language_info": {
   "codemirror_mode": {
    "name": "ipython",
    "version": 3
   },
   "file_extension": ".py",
   "mimetype": "text/x-python",
   "name": "python",
   "nbconvert_exporter": "python",
   "pygments_lexer": "ipython3",
   "version": "3.11.7"
  }
 },
 "nbformat": 4,
 "nbformat_minor": 5
}
