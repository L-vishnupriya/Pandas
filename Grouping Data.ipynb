{
 "cells": [
  {
   "cell_type": "markdown",
   "id": "01f1a1de-86b1-4143-9511-4304175b4a35",
   "metadata": {},
   "source": [
    "Pandas GroupBy :"
   ]
  },
  {
   "cell_type": "code",
   "execution_count": 1,
   "id": "04c8a3c4-7067-4e55-8118-c741f8fbdd8e",
   "metadata": {},
   "outputs": [
    {
     "name": "stdout",
     "output_type": "stream",
     "text": [
      "     Name  Age    Address Qualification\n",
      "0     Jai   27     Nagpur           Msc\n",
      "1    Anuj   24     Kanpur            MA\n",
      "2     Jai   22  Allahabad           MCA\n",
      "3  Princi   32    Kannuaj           Phd\n",
      "4  Gaurav   33    Jaunpur        B.Tech\n",
      "5    Anuj   36     Kanpur         B.com\n",
      "6  Princi   27  Allahabad           Msc\n",
      "7    Abhi   32    Aligarh            MA\n"
     ]
    }
   ],
   "source": [
    "# importing pandas module\n",
    "import pandas as pd \n",
    "\n",
    "# Define a dictionary containing employee data \n",
    "data1 = {'Name':['Jai', 'Anuj', 'Jai', 'Princi', \n",
    "\t\t\t\t'Gaurav', 'Anuj', 'Princi', 'Abhi'], \n",
    "\t\t'Age':[27, 24, 22, 32, \n",
    "\t\t\t33, 36, 27, 32], \n",
    "\t\t'Address':['Nagpur', 'Kanpur', 'Allahabad', 'Kannuaj',\n",
    "\t\t\t\t'Jaunpur', 'Kanpur', 'Allahabad', 'Aligarh'], \n",
    "\t\t'Qualification':['Msc', 'MA', 'MCA', 'Phd',\n",
    "\t\t\t\t\t\t'B.Tech', 'B.com', 'Msc', 'MA']} \n",
    "\t\n",
    "\n",
    "# Convert the dictionary into DataFrame \n",
    "df = pd.DataFrame(data1)\n",
    "\n",
    "print(df) \n"
   ]
  },
  {
   "cell_type": "code",
   "execution_count": 2,
   "id": "12ad6266-979c-49c3-ac01-96d3a855af1a",
   "metadata": {},
   "outputs": [
    {
     "name": "stdout",
     "output_type": "stream",
     "text": [
      "{'Abhi': [7], 'Anuj': [1, 5], 'Gaurav': [4], 'Jai': [0, 2], 'Princi': [3, 6]}\n"
     ]
    }
   ],
   "source": [
    "# using groupby function\n",
    "# with one key\n",
    "\n",
    "df.groupby('Name')\n",
    "print(df.groupby('Name').groups)\n"
   ]
  },
  {
   "cell_type": "code",
   "execution_count": 3,
   "id": "001b1960-a0b9-43b8-b3f4-481165aaacdb",
   "metadata": {},
   "outputs": [
    {
     "data": {
      "text/html": [
       "<div>\n",
       "<style scoped>\n",
       "    .dataframe tbody tr th:only-of-type {\n",
       "        vertical-align: middle;\n",
       "    }\n",
       "\n",
       "    .dataframe tbody tr th {\n",
       "        vertical-align: top;\n",
       "    }\n",
       "\n",
       "    .dataframe thead th {\n",
       "        text-align: right;\n",
       "    }\n",
       "</style>\n",
       "<table border=\"1\" class=\"dataframe\">\n",
       "  <thead>\n",
       "    <tr style=\"text-align: right;\">\n",
       "      <th></th>\n",
       "      <th>Age</th>\n",
       "      <th>Address</th>\n",
       "      <th>Qualification</th>\n",
       "    </tr>\n",
       "    <tr>\n",
       "      <th>Name</th>\n",
       "      <th></th>\n",
       "      <th></th>\n",
       "      <th></th>\n",
       "    </tr>\n",
       "  </thead>\n",
       "  <tbody>\n",
       "    <tr>\n",
       "      <th>Abhi</th>\n",
       "      <td>32</td>\n",
       "      <td>Aligarh</td>\n",
       "      <td>MA</td>\n",
       "    </tr>\n",
       "    <tr>\n",
       "      <th>Anuj</th>\n",
       "      <td>24</td>\n",
       "      <td>Kanpur</td>\n",
       "      <td>MA</td>\n",
       "    </tr>\n",
       "    <tr>\n",
       "      <th>Gaurav</th>\n",
       "      <td>33</td>\n",
       "      <td>Jaunpur</td>\n",
       "      <td>B.Tech</td>\n",
       "    </tr>\n",
       "    <tr>\n",
       "      <th>Jai</th>\n",
       "      <td>27</td>\n",
       "      <td>Nagpur</td>\n",
       "      <td>Msc</td>\n",
       "    </tr>\n",
       "    <tr>\n",
       "      <th>Princi</th>\n",
       "      <td>32</td>\n",
       "      <td>Kannuaj</td>\n",
       "      <td>Phd</td>\n",
       "    </tr>\n",
       "  </tbody>\n",
       "</table>\n",
       "</div>"
      ],
      "text/plain": [
       "        Age  Address Qualification\n",
       "Name                              \n",
       "Abhi     32  Aligarh            MA\n",
       "Anuj     24   Kanpur            MA\n",
       "Gaurav   33  Jaunpur        B.Tech\n",
       "Jai      27   Nagpur           Msc\n",
       "Princi   32  Kannuaj           Phd"
      ]
     },
     "execution_count": 3,
     "metadata": {},
     "output_type": "execute_result"
    }
   ],
   "source": [
    "# applying groupby() function to \n",
    "# group the data on Name value. \n",
    "gk = df.groupby('Name') \n",
    "\n",
    "# Let's print the first entries \n",
    "# in all the groups formed. \n",
    "gk.first() \n"
   ]
  },
  {
   "cell_type": "code",
   "execution_count": 4,
   "id": "1c73b9ec-a24a-4918-aa68-a187830c1bbc",
   "metadata": {},
   "outputs": [
    {
     "name": "stdout",
     "output_type": "stream",
     "text": [
      "     Name  Age    Address Qualification\n",
      "0     Jai   27     Nagpur           Msc\n",
      "1    Anuj   24     Kanpur            MA\n",
      "2     Jai   22  Allahabad           MCA\n",
      "3  Princi   32    Kannuaj           Phd\n",
      "4  Gaurav   33    Jaunpur        B.Tech\n",
      "5    Anuj   36     Kanpur         B.com\n",
      "6  Princi   27  Allahabad           Msc\n",
      "7    Abhi   32    Aligarh            MA\n"
     ]
    }
   ],
   "source": [
    "# importing pandas module\n",
    "import pandas as pd \n",
    "\n",
    "# Define a dictionary containing employee data \n",
    "data1 = {'Name':['Jai', 'Anuj', 'Jai', 'Princi', \n",
    "\t\t\t\t'Gaurav', 'Anuj', 'Princi', 'Abhi'], \n",
    "\t\t'Age':[27, 24, 22, 32, \n",
    "\t\t\t33, 36, 27, 32], \n",
    "\t\t'Address':['Nagpur', 'Kanpur', 'Allahabad', 'Kannuaj',\n",
    "\t\t\t\t'Jaunpur', 'Kanpur', 'Allahabad', 'Aligarh'], \n",
    "\t\t'Qualification':['Msc', 'MA', 'MCA', 'Phd',\n",
    "\t\t\t\t\t\t'B.Tech', 'B.com', 'Msc', 'MA']} \n",
    "\t\n",
    "\n",
    "# Convert the dictionary into DataFrame \n",
    "df = pd.DataFrame(data1)\n",
    "\n",
    "print(df) \n"
   ]
  },
  {
   "cell_type": "code",
   "execution_count": 5,
   "id": "ab6d3063-f10f-4385-b1ae-4f8edb6c2a6a",
   "metadata": {},
   "outputs": [
    {
     "name": "stdout",
     "output_type": "stream",
     "text": [
      "{('Abhi', 'MA'): [7], ('Anuj', 'B.com'): [5], ('Anuj', 'MA'): [1], ('Gaurav', 'B.Tech'): [4], ('Jai', 'MCA'): [2], ('Jai', 'Msc'): [0], ('Princi', 'Msc'): [6], ('Princi', 'Phd'): [3]}\n"
     ]
    }
   ],
   "source": [
    "# Using multiple keys in\n",
    "# groupby() function\n",
    "df.groupby(['Name', 'Qualification'])\n",
    "\n",
    "print(df.groupby(['Name', 'Qualification']).groups)\n"
   ]
  },
  {
   "cell_type": "code",
   "execution_count": 6,
   "id": "0797cc72-5529-452c-becc-552f8bb10469",
   "metadata": {},
   "outputs": [
    {
     "name": "stdout",
     "output_type": "stream",
     "text": [
      "     Name  Age\n",
      "0     Jai   27\n",
      "1    Anuj   24\n",
      "2     Jai   22\n",
      "3  Princi   32\n",
      "4  Gaurav   33\n",
      "5    Anuj   36\n",
      "6  Princi   27\n",
      "7    Abhi   32\n"
     ]
    }
   ],
   "source": [
    "# importing pandas module\n",
    "import pandas as pd \n",
    "\n",
    "# Define a dictionary containing employee data \n",
    "data1 = {'Name':['Jai', 'Anuj', 'Jai', 'Princi', \n",
    "\t\t\t\t'Gaurav', 'Anuj', 'Princi', 'Abhi'], \n",
    "\t\t'Age':[27, 24, 22, 32, \n",
    "\t\t\t33, 36, 27, 32], } \n",
    "\t\n",
    "\n",
    "# Convert the dictionary into DataFrame \n",
    "df = pd.DataFrame(data1)\n",
    "\n",
    "print(df) \n"
   ]
  },
  {
   "cell_type": "code",
   "execution_count": 7,
   "id": "b06c8333-f5cb-4a29-acda-cf278e043fec",
   "metadata": {},
   "outputs": [
    {
     "data": {
      "text/html": [
       "<div>\n",
       "<style scoped>\n",
       "    .dataframe tbody tr th:only-of-type {\n",
       "        vertical-align: middle;\n",
       "    }\n",
       "\n",
       "    .dataframe tbody tr th {\n",
       "        vertical-align: top;\n",
       "    }\n",
       "\n",
       "    .dataframe thead th {\n",
       "        text-align: right;\n",
       "    }\n",
       "</style>\n",
       "<table border=\"1\" class=\"dataframe\">\n",
       "  <thead>\n",
       "    <tr style=\"text-align: right;\">\n",
       "      <th></th>\n",
       "      <th>Age</th>\n",
       "    </tr>\n",
       "    <tr>\n",
       "      <th>Name</th>\n",
       "      <th></th>\n",
       "    </tr>\n",
       "  </thead>\n",
       "  <tbody>\n",
       "    <tr>\n",
       "      <th>Abhi</th>\n",
       "      <td>32</td>\n",
       "    </tr>\n",
       "    <tr>\n",
       "      <th>Anuj</th>\n",
       "      <td>60</td>\n",
       "    </tr>\n",
       "    <tr>\n",
       "      <th>Gaurav</th>\n",
       "      <td>33</td>\n",
       "    </tr>\n",
       "    <tr>\n",
       "      <th>Jai</th>\n",
       "      <td>49</td>\n",
       "    </tr>\n",
       "    <tr>\n",
       "      <th>Princi</th>\n",
       "      <td>59</td>\n",
       "    </tr>\n",
       "  </tbody>\n",
       "</table>\n",
       "</div>"
      ],
      "text/plain": [
       "        Age\n",
       "Name       \n",
       "Abhi     32\n",
       "Anuj     60\n",
       "Gaurav   33\n",
       "Jai      49\n",
       "Princi   59"
      ]
     },
     "execution_count": 7,
     "metadata": {},
     "output_type": "execute_result"
    }
   ],
   "source": [
    "# using groupby function\n",
    "# without using sort\n",
    "\n",
    "df.groupby(['Name']).sum()\n"
   ]
  },
  {
   "cell_type": "code",
   "execution_count": 8,
   "id": "cf2171f6-cac2-4acf-a841-288bd971c5d2",
   "metadata": {},
   "outputs": [
    {
     "data": {
      "text/html": [
       "<div>\n",
       "<style scoped>\n",
       "    .dataframe tbody tr th:only-of-type {\n",
       "        vertical-align: middle;\n",
       "    }\n",
       "\n",
       "    .dataframe tbody tr th {\n",
       "        vertical-align: top;\n",
       "    }\n",
       "\n",
       "    .dataframe thead th {\n",
       "        text-align: right;\n",
       "    }\n",
       "</style>\n",
       "<table border=\"1\" class=\"dataframe\">\n",
       "  <thead>\n",
       "    <tr style=\"text-align: right;\">\n",
       "      <th></th>\n",
       "      <th>Age</th>\n",
       "    </tr>\n",
       "    <tr>\n",
       "      <th>Name</th>\n",
       "      <th></th>\n",
       "    </tr>\n",
       "  </thead>\n",
       "  <tbody>\n",
       "    <tr>\n",
       "      <th>Jai</th>\n",
       "      <td>49</td>\n",
       "    </tr>\n",
       "    <tr>\n",
       "      <th>Anuj</th>\n",
       "      <td>60</td>\n",
       "    </tr>\n",
       "    <tr>\n",
       "      <th>Princi</th>\n",
       "      <td>59</td>\n",
       "    </tr>\n",
       "    <tr>\n",
       "      <th>Gaurav</th>\n",
       "      <td>33</td>\n",
       "    </tr>\n",
       "    <tr>\n",
       "      <th>Abhi</th>\n",
       "      <td>32</td>\n",
       "    </tr>\n",
       "  </tbody>\n",
       "</table>\n",
       "</div>"
      ],
      "text/plain": [
       "        Age\n",
       "Name       \n",
       "Jai      49\n",
       "Anuj     60\n",
       "Princi   59\n",
       "Gaurav   33\n",
       "Abhi     32"
      ]
     },
     "execution_count": 8,
     "metadata": {},
     "output_type": "execute_result"
    }
   ],
   "source": [
    "# using groupby function\n",
    "# with sort\n",
    "\n",
    "df.groupby(['Name'], sort = False).sum()\n"
   ]
  },
  {
   "cell_type": "code",
   "execution_count": 9,
   "id": "121e6600-651d-4e35-9d66-c21b375335b8",
   "metadata": {},
   "outputs": [
    {
     "name": "stdout",
     "output_type": "stream",
     "text": [
      "     Name  Age    Address Qualification\n",
      "0     Jai   27     Nagpur           Msc\n",
      "1    Anuj   24     Kanpur            MA\n",
      "2     Jai   22  Allahabad           MCA\n",
      "3  Princi   32    Kannuaj           Phd\n",
      "4  Gaurav   33    Jaunpur        B.Tech\n",
      "5    Anuj   36     Kanpur         B.com\n",
      "6  Princi   27  Allahabad           Msc\n",
      "7    Abhi   32    Aligarh            MA\n"
     ]
    }
   ],
   "source": [
    "# importing pandas module\n",
    "import pandas as pd \n",
    "\n",
    "# Define a dictionary containing employee data \n",
    "data1 = {'Name':['Jai', 'Anuj', 'Jai', 'Princi', \n",
    "\t\t\t\t'Gaurav', 'Anuj', 'Princi', 'Abhi'], \n",
    "\t\t'Age':[27, 24, 22, 32, \n",
    "\t\t\t33, 36, 27, 32], \n",
    "\t\t'Address':['Nagpur', 'Kanpur', 'Allahabad', 'Kannuaj',\n",
    "\t\t\t\t'Jaunpur', 'Kanpur', 'Allahabad', 'Aligarh'], \n",
    "\t\t'Qualification':['Msc', 'MA', 'MCA', 'Phd',\n",
    "\t\t\t\t\t\t'B.Tech', 'B.com', 'Msc', 'MA']} \n",
    "\t\n",
    "\n",
    "# Convert the dictionary into DataFrame \n",
    "df = pd.DataFrame(data1)\n",
    "\n",
    "print(df) \n"
   ]
  },
  {
   "cell_type": "code",
   "execution_count": 10,
   "id": "d5943642-1141-4cf0-9931-7ba072122d67",
   "metadata": {},
   "outputs": [
    {
     "data": {
      "text/plain": [
       "{'Abhi': [7], 'Anuj': [1, 5], 'Gaurav': [4], 'Jai': [0, 2], 'Princi': [3, 6]}"
      ]
     },
     "execution_count": 10,
     "metadata": {},
     "output_type": "execute_result"
    }
   ],
   "source": [
    "# using keys for grouping\n",
    "# data\n",
    "\n",
    "df.groupby('Name').groups\n"
   ]
  },
  {
   "cell_type": "markdown",
   "id": "98ec6b91-efb1-40a1-8c61-d1f46bc5aa4c",
   "metadata": {},
   "source": [
    "Grouping Rows in pandas :"
   ]
  },
  {
   "cell_type": "code",
   "execution_count": 1,
   "id": "05f5d00a-b872-460c-acbd-d51cab60fea4",
   "metadata": {},
   "outputs": [
    {
     "name": "stdout",
     "output_type": "stream",
     "text": [
      "                Team      Player  Goals\n",
      "0            Arsenal        Ozil      5\n",
      "1  Manchester United       Pogba      3\n",
      "2            Arsenal       Lucas      6\n",
      "3            Arsenal  Aubameyang      4\n",
      "4            Chelsea      Hazard      9\n",
      "5  Manchester United        Mata      2\n",
      "6  Manchester United      Lukaku      0\n",
      "7            Chelsea      Morata      5\n",
      "8            Chelsea      Giroud      2\n",
      "9            Chelsea       Kante      3\n"
     ]
    }
   ],
   "source": [
    "# importing Pandas \n",
    "import pandas as pd \n",
    "\n",
    "# example dataframe \n",
    "example = {'Team':['Arsenal', 'Manchester United', 'Arsenal', \n",
    "\t\t\t\t'Arsenal', 'Chelsea', 'Manchester United', \n",
    "\t\t\t\t'Manchester United', 'Chelsea', 'Chelsea', 'Chelsea'], \n",
    "\t\t\t\t\t\n",
    "\t\t'Player':['Ozil', 'Pogba', 'Lucas', 'Aubameyang', \n",
    "\t\t\t\t\t'Hazard', 'Mata', 'Lukaku', 'Morata', \n",
    "\t\t\t\t\t\t\t\t\t\t'Giroud', 'Kante'], \n",
    "\t\t\t\t\t\t\t\t\t\t\n",
    "\t\t'Goals':[5, 3, 6, 4, 9, 2, 0, 5, 2, 3] } \n",
    "\n",
    "df = pd.DataFrame(example) \n",
    "\n",
    "print(df) \n"
   ]
  },
  {
   "cell_type": "code",
   "execution_count": 2,
   "id": "90a3b081-20fd-4e2c-a0db-ecf0703c39ae",
   "metadata": {},
   "outputs": [
    {
     "name": "stdout",
     "output_type": "stream",
     "text": [
      "Team\n",
      "Arsenal              5.000000\n",
      "Chelsea              4.750000\n",
      "Manchester United    1.666667\n",
      "Name: Goals, dtype: float64\n"
     ]
    }
   ],
   "source": [
    "total_goals = df['Goals'].groupby(df['Team']) \n",
    "\n",
    "# printing the means value \n",
    "print(total_goals.mean())\t \n"
   ]
  },
  {
   "cell_type": "code",
   "execution_count": 3,
   "id": "9f49d824-f0f8-4854-8064-2017c1bad530",
   "metadata": {},
   "outputs": [
    {
     "name": "stdout",
     "output_type": "stream",
     "text": [
      "Team\n",
      "Australia       41750.000000\n",
      "England         55680.333333\n",
      "India           51832.666667\n",
      "South Africa    57287.500000\n",
      "Name: Salary, dtype: float64\n"
     ]
    }
   ],
   "source": [
    "import pandas as pd \n",
    "\n",
    "# example dataframe \n",
    "example = {'Team':['Australia', 'England', 'South Africa', \n",
    "\t\t\t\t'Australia', 'England', 'India', 'India', \n",
    "\t\t\t\t\t\t'South Africa', 'England', 'India'], \n",
    "\t\t\t\t\t\t\n",
    "\t\t'Player':['Ricky Ponting', 'Joe Root', 'Hashim Amla', \n",
    "\t\t\t\t\t'David Warner', 'Jos Buttler', 'Virat Kohli', \n",
    "\t\t\t\t\t'Rohit Sharma', 'David Miller', 'Eoin Morgan', \n",
    "\t\t\t\t\t\t\t\t\t\t\t\t'Dinesh Karthik'], \n",
    "\t\t\t\t\t\t\t\t\t\t\t\t\n",
    "\t\t'Runs':[345, 336, 689, 490, 989, 672, 560, 455, 342, 376], \n",
    "\t\t\t\n",
    "\t\t'Salary':[34500, 33600, 68900, 49000, 98899, \n",
    "\t\t\t\t\t67562, 56760, 45675, 34542, 31176] } \n",
    "\n",
    "df = pd.DataFrame(example) \n",
    "\n",
    "total_salary = df['Salary'].groupby(df['Team']) \n",
    "\n",
    "# printing the means value \n",
    "print(total_salary.mean())\t \n"
   ]
  },
  {
   "cell_type": "markdown",
   "id": "ed480ece-7663-4c25-ab64-d86d8b1bc95e",
   "metadata": {},
   "source": [
    "Combining multiple columns in Pandas groupby with dictionary :"
   ]
  },
  {
   "cell_type": "code",
   "execution_count": 4,
   "id": "b88a44dc-0fd3-4528-bc68-11731fe153af",
   "metadata": {},
   "outputs": [
    {
     "name": "stdout",
     "output_type": "stream",
     "text": [
      "  id  Column 1.1  Column 1.2  Column 1.3  Column 2.1  Column 2.2\n",
      "0  1          14          10           1           1          10\n",
      "1  2          15          10           4           2          10\n",
      "2  3          16          10           5           3          10\n"
     ]
    }
   ],
   "source": [
    "# importing pandas as pd \n",
    "import pandas as pd \n",
    "\n",
    "# Creating a dictionary \n",
    "d = {'id':['1', '2', '3'], \n",
    "\t'Column 1.1':[14, 15, 16], \n",
    "\t'Column 1.2':[10, 10, 10], \n",
    "\t'Column 1.3':[1, 4, 5], \n",
    "\t'Column 2.1':[1, 2, 3], \n",
    "\t'Column 2.2':[10, 10, 10], } \n",
    "\n",
    "# Converting dictionary into a data-frame \n",
    "df = pd.DataFrame(d) \n",
    "print(df) \n"
   ]
  },
  {
   "cell_type": "code",
   "execution_count": 5,
   "id": "fd3741f5-e323-488f-abce-554adfb7f9ae",
   "metadata": {},
   "outputs": [
    {
     "name": "stdout",
     "output_type": "stream",
     "text": [
      "    Column 1  Column 2\n",
      "id                    \n",
      "1          1         1\n",
      "2          4         2\n",
      "3          5         3\n"
     ]
    },
    {
     "name": "stderr",
     "output_type": "stream",
     "text": [
      "C:\\Users\\vishn\\AppData\\Local\\Temp\\ipykernel_24284\\164608934.py:12: FutureWarning: DataFrame.groupby with axis=1 is deprecated. Do `frame.T.groupby(...)` without axis instead.\n",
      "  df = df.groupby(groupby_dict, axis = 1).min()\n"
     ]
    }
   ],
   "source": [
    "# Creating the groupby dictionary \n",
    "groupby_dict = {'Column 1.1':'Column 1', \n",
    "\t\t\t\t'Column 1.2':'Column 1', \n",
    "\t\t\t\t'Column 1.3':'Column 1', \n",
    "\t\t\t\t'Column 2.1':'Column 2', \n",
    "\t\t\t\t'Column 2.2':'Column 2' } \n",
    "\n",
    "# Set the index of df as Column 'id' \n",
    "df = df.set_index('id') \n",
    "\n",
    "# Groupby the groupby_dict created above \n",
    "df = df.groupby(groupby_dict, axis = 1).min() \n",
    "print(df) \n"
   ]
  },
  {
   "cell_type": "code",
   "execution_count": 6,
   "id": "7f90fc48-741b-4ff0-9ec6-9ffa403ceb62",
   "metadata": {},
   "outputs": [
    {
     "name": "stdout",
     "output_type": "stream",
     "text": [
      "   ID         Movies  Week_1_Viewers  Week_2_Viewers  Week_3_Viewers\n",
      "0   1  The Godfather              30              60              40\n",
      "1   2     Fight Club              30              40              20\n",
      "2   3     Casablanca              40              80              20\n"
     ]
    }
   ],
   "source": [
    "# importing pandas as pd \n",
    "import pandas as pd \n",
    "\n",
    "# Create dictionary with data \n",
    "dict = { \n",
    "\t\"ID\":[1, 2, 3], \n",
    "\t\"Movies\":[\"The Godfather\", \"Fight Club\", \"Casablanca\"], \n",
    "\t\"Week_1_Viewers\":[30, 30, 40], \n",
    "\t\"Week_2_Viewers\":[60, 40, 80], \n",
    "\t\"Week_3_Viewers\":[40, 20, 20] }; \n",
    "\n",
    "# Convert dictionary to dataframe \n",
    "df = pd.DataFrame(dict); \n",
    "print(df) \n"
   ]
  },
  {
   "cell_type": "code",
   "execution_count": 7,
   "id": "779b5449-76ae-498a-b4e9-00d89daa5359",
   "metadata": {},
   "outputs": [
    {
     "name": "stdout",
     "output_type": "stream",
     "text": [
      "           Movies  Total_Viewers\n",
      "ID                              \n",
      "1   The Godfather            130\n",
      "2      Fight Club             90\n",
      "3      Casablanca            140\n"
     ]
    },
    {
     "name": "stderr",
     "output_type": "stream",
     "text": [
      "C:\\Users\\vishn\\AppData\\Local\\Temp\\ipykernel_24284\\2687949280.py:8: FutureWarning: DataFrame.groupby with axis=1 is deprecated. Do `frame.T.groupby(...)` without axis instead.\n",
      "  df = df.groupby(groupby_dict, axis = 1).sum()\n"
     ]
    }
   ],
   "source": [
    "# Create the groupby_dict \n",
    "groupby_dict = {\"Week_1_Viewers\":\"Total_Viewers\", \n",
    "\t\t\"Week_2_Viewers\":\"Total_Viewers\", \n",
    "\t\t\"Week_3_Viewers\":\"Total_Viewers\", \n",
    "\t\t\"Movies\":\"Movies\" } \n",
    "\n",
    "df = df.set_index('ID') \n",
    "df = df.groupby(groupby_dict, axis = 1).sum() \n",
    "print(df) \n"
   ]
  },
  {
   "cell_type": "code",
   "execution_count": null,
   "id": "3dd9c75c-1151-44e2-aafb-a0d88da669bb",
   "metadata": {},
   "outputs": [],
   "source": []
  }
 ],
 "metadata": {
  "kernelspec": {
   "display_name": "Python 3 (ipykernel)",
   "language": "python",
   "name": "python3"
  },
  "language_info": {
   "codemirror_mode": {
    "name": "ipython",
    "version": 3
   },
   "file_extension": ".py",
   "mimetype": "text/x-python",
   "name": "python",
   "nbconvert_exporter": "python",
   "pygments_lexer": "ipython3",
   "version": "3.11.7"
  }
 },
 "nbformat": 4,
 "nbformat_minor": 5
}
