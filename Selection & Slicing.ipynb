{
 "cells": [
  {
   "cell_type": "markdown",
   "id": "ade913ab-38c5-4c67-88b8-d46e5e4229ee",
   "metadata": {},
   "source": [
    "Dealing with Rows and Columns in Pandas DataFrame :"
   ]
  },
  {
   "cell_type": "code",
   "execution_count": 6,
   "id": "5460784a-5d13-48d4-bf00-7d271bc586eb",
   "metadata": {},
   "outputs": [
    {
     "name": "stdout",
     "output_type": "stream",
     "text": [
      "     Name  Age    Address Qualification\n",
      "0     Jai   27      Delhi           Msc\n",
      "1  Princi   24     Kanpur            MA\n",
      "2  Gaurav   22  Allahabad           MCA\n",
      "3    Anuj   32    Kannauj           Phd\n",
      "---------------------------------------------\n",
      "     Name Qualification\n",
      "0     Jai           Msc\n",
      "1  Princi            MA\n",
      "2  Gaurav           MCA\n",
      "3    Anuj           Phd\n"
     ]
    }
   ],
   "source": [
    "# Import pandas package\n",
    "import pandas as pd\n",
    "\n",
    "# Define a dictionary containing employee data\n",
    "data = {'Name':['Jai', 'Princi', 'Gaurav', 'Anuj'],\n",
    "\t\t'Age':[27, 24, 22, 32],\n",
    "\t\t'Address':['Delhi', 'Kanpur', 'Allahabad', 'Kannauj'],\n",
    "\t    'Qualification':['Msc', 'MA', 'MCA', 'Phd']}\n",
    "\n",
    "# Convert the dictionary into DataFrame \n",
    "df = pd.DataFrame(data)\n",
    "print(df)\n",
    "\n",
    "print(\"---------------------------------------------\")\n",
    "# select two columns\n",
    "print(df[['Name','Qualification']])\n"
   ]
  },
  {
   "cell_type": "code",
   "execution_count": 9,
   "id": "696c534a-53c2-420d-afed-047ba4b1af9c",
   "metadata": {},
   "outputs": [
    {
     "name": "stdout",
     "output_type": "stream",
     "text": [
      "      bedrooms  age   price\n",
      "area                       \n",
      "2600       3.0   20  550000\n",
      "3000       4.0   15  565000\n",
      "3200       NaN   18  610000\n",
      "3600       3.0   30  595000\n",
      "4000       5.0    8  760000\n",
      "4100       6.0    8  810000\n",
      "      bedrooms\n",
      "area          \n",
      "2600       3.0\n",
      "3000       4.0\n",
      "3200       NaN\n",
      "3600       3.0\n",
      "4000       5.0\n",
      "4100       6.0\n"
     ]
    }
   ],
   "source": [
    "# importing pandas module\n",
    "import pandas as pd\n",
    "\n",
    "# making data frame from csv file\n",
    "data = pd.read_csv(\"homeprices.csv\", index_col =\"area\" )\n",
    "print(data)\n",
    "# dropping passed columns\n",
    "data.drop([\"age\", \"price\"], axis = 1, inplace = True)\n",
    "\n",
    "# display\n",
    "print(data)\n"
   ]
  },
  {
   "cell_type": "code",
   "execution_count": 12,
   "id": "611ea3c9-5c75-4ef6-8940-9945060457bf",
   "metadata": {},
   "outputs": [
    {
     "name": "stdout",
     "output_type": "stream",
     "text": [
      "bedrooms         3.0\n",
      "age             20.0\n",
      "price       550000.0\n",
      "Name: 2600, dtype: float64 \n",
      "\n",
      "\n",
      " bedrooms         5.0\n",
      "age              8.0\n",
      "price       760000.0\n",
      "Name: 4000, dtype: float64\n"
     ]
    }
   ],
   "source": [
    "# importing pandas package\n",
    "import pandas as pd\n",
    "\n",
    "# making data frame from csv file\n",
    "data = pd.read_csv(\"homeprices.csv\", index_col =\"area\")\n",
    "\n",
    "# retrieving row by loc method\n",
    "first = data.loc[2600]\n",
    "second = data.loc[4000]\n",
    "\n",
    "\n",
    "print(first, \"\\n\\n\\n\", second)\n"
   ]
  },
  {
   "cell_type": "code",
   "execution_count": 13,
   "id": "decfb759-7f05-4043-9f97-379f739a2d29",
   "metadata": {},
   "outputs": [
    {
     "data": {
      "text/html": [
       "<div>\n",
       "<style scoped>\n",
       "    .dataframe tbody tr th:only-of-type {\n",
       "        vertical-align: middle;\n",
       "    }\n",
       "\n",
       "    .dataframe tbody tr th {\n",
       "        vertical-align: top;\n",
       "    }\n",
       "\n",
       "    .dataframe thead th {\n",
       "        text-align: right;\n",
       "    }\n",
       "</style>\n",
       "<table border=\"1\" class=\"dataframe\">\n",
       "  <thead>\n",
       "    <tr style=\"text-align: right;\">\n",
       "      <th></th>\n",
       "      <th>bedrooms</th>\n",
       "      <th>age</th>\n",
       "      <th>price</th>\n",
       "    </tr>\n",
       "    <tr>\n",
       "      <th>area</th>\n",
       "      <th></th>\n",
       "      <th></th>\n",
       "      <th></th>\n",
       "    </tr>\n",
       "  </thead>\n",
       "  <tbody>\n",
       "    <tr>\n",
       "      <th>3200</th>\n",
       "      <td>NaN</td>\n",
       "      <td>18</td>\n",
       "      <td>610000</td>\n",
       "    </tr>\n",
       "    <tr>\n",
       "      <th>3600</th>\n",
       "      <td>3.0</td>\n",
       "      <td>30</td>\n",
       "      <td>595000</td>\n",
       "    </tr>\n",
       "    <tr>\n",
       "      <th>4000</th>\n",
       "      <td>5.0</td>\n",
       "      <td>8</td>\n",
       "      <td>760000</td>\n",
       "    </tr>\n",
       "    <tr>\n",
       "      <th>4100</th>\n",
       "      <td>6.0</td>\n",
       "      <td>8</td>\n",
       "      <td>810000</td>\n",
       "    </tr>\n",
       "  </tbody>\n",
       "</table>\n",
       "</div>"
      ],
      "text/plain": [
       "      bedrooms  age   price\n",
       "area                       \n",
       "3200       NaN   18  610000\n",
       "3600       3.0   30  595000\n",
       "4000       5.0    8  760000\n",
       "4100       6.0    8  810000"
      ]
     },
     "execution_count": 13,
     "metadata": {},
     "output_type": "execute_result"
    }
   ],
   "source": [
    "# importing pandas module\n",
    "import pandas as pd\n",
    "\n",
    "# making data frame from csv file\n",
    "data = pd.read_csv(\"homeprices.csv\", index_col =\"area\" )\n",
    "\n",
    "# dropping passed values\n",
    "data.drop([2600, 3000], inplace = True)\n",
    "\n",
    "# display\n",
    "data\n"
   ]
  },
  {
   "cell_type": "markdown",
   "id": "e6fb1f97-b7f6-4834-8002-975eac161eb8",
   "metadata": {},
   "source": [
    " Pandas Extracting rows using .loc[] :"
   ]
  },
  {
   "cell_type": "markdown",
   "id": "e43a0d36-ca8b-4db4-aaf3-a26f29755c65",
   "metadata": {},
   "source": [
    "Pandas provide a unique method to retrieve rows from a Data frame. \n",
    "\n",
    "DataFrame.loc[] :\n",
    "\n",
    "It is a method that takes only index labels and returns row or dataframe if the index label exists in the caller data frame."
   ]
  },
  {
   "cell_type": "markdown",
   "id": "e6fe5716-58c1-40ec-94f0-cad3151e94e0",
   "metadata": {},
   "source": [
    " Extracting single Row :"
   ]
  },
  {
   "cell_type": "code",
   "execution_count": 15,
   "id": "9425eed5-d469-4920-b477-3f3e1526224c",
   "metadata": {},
   "outputs": [
    {
     "name": "stdout",
     "output_type": "stream",
     "text": [
      "bedrooms         3.0\n",
      "age             20.0\n",
      "price       550000.0\n",
      "Name: 2600, dtype: float64 \n",
      "\n",
      "\n",
      " bedrooms         5.0\n",
      "age              8.0\n",
      "price       760000.0\n",
      "Name: 4000, dtype: float64\n"
     ]
    }
   ],
   "source": [
    "# importing pandas package \n",
    "import pandas as pd \n",
    "\n",
    "# making data frame from csv file \n",
    "data = pd.read_csv(\"homeprices.csv\", index_col =\"area\") \n",
    "\n",
    "# retrieving row by loc method \n",
    "first = data.loc[2600] \n",
    "second = data.loc[4000] \n",
    "\n",
    "\n",
    "print(first, \"\\n\\n\\n\", second) \n"
   ]
  },
  {
   "cell_type": "code",
   "execution_count": 16,
   "id": "0259b947-4d22-4d02-98ac-55ad49503e03",
   "metadata": {},
   "outputs": [
    {
     "name": "stdout",
     "output_type": "stream",
     "text": [
      "<class 'pandas.core.frame.DataFrame'>\n"
     ]
    },
    {
     "data": {
      "text/html": [
       "<div>\n",
       "<style scoped>\n",
       "    .dataframe tbody tr th:only-of-type {\n",
       "        vertical-align: middle;\n",
       "    }\n",
       "\n",
       "    .dataframe tbody tr th {\n",
       "        vertical-align: top;\n",
       "    }\n",
       "\n",
       "    .dataframe thead th {\n",
       "        text-align: right;\n",
       "    }\n",
       "</style>\n",
       "<table border=\"1\" class=\"dataframe\">\n",
       "  <thead>\n",
       "    <tr style=\"text-align: right;\">\n",
       "      <th></th>\n",
       "      <th>bedrooms</th>\n",
       "      <th>age</th>\n",
       "      <th>price</th>\n",
       "    </tr>\n",
       "    <tr>\n",
       "      <th>area</th>\n",
       "      <th></th>\n",
       "      <th></th>\n",
       "      <th></th>\n",
       "    </tr>\n",
       "  </thead>\n",
       "  <tbody>\n",
       "    <tr>\n",
       "      <th>3000</th>\n",
       "      <td>4.0</td>\n",
       "      <td>15</td>\n",
       "      <td>565000</td>\n",
       "    </tr>\n",
       "    <tr>\n",
       "      <th>4000</th>\n",
       "      <td>5.0</td>\n",
       "      <td>8</td>\n",
       "      <td>760000</td>\n",
       "    </tr>\n",
       "  </tbody>\n",
       "</table>\n",
       "</div>"
      ],
      "text/plain": [
       "      bedrooms  age   price\n",
       "area                       \n",
       "3000       4.0   15  565000\n",
       "4000       5.0    8  760000"
      ]
     },
     "execution_count": 16,
     "metadata": {},
     "output_type": "execute_result"
    }
   ],
   "source": [
    "# importing pandas package \n",
    "import pandas as pd \n",
    "\n",
    "# making data frame from csv file \n",
    "data = pd.read_csv(\"homeprices.csv\", index_col =\"area\") \n",
    "\n",
    "# retrieving rows by loc method \n",
    "rows = data.loc[[3000,4000]] \n",
    "\n",
    "# checking data type of rows \n",
    "print(type(rows)) \n",
    "\n",
    "# display \n",
    "rows \n"
   ]
  },
  {
   "cell_type": "markdown",
   "id": "4d4d7941-e13f-40e4-8e88-ec4144edf36b",
   "metadata": {},
   "source": [
    "Extracting multiple rows with same index :"
   ]
  },
  {
   "cell_type": "code",
   "execution_count": 20,
   "id": "64867406-cc3c-464a-a07e-b36a6a4b6f5f",
   "metadata": {},
   "outputs": [
    {
     "name": "stdout",
     "output_type": "stream",
     "text": [
      "<class 'pandas.core.series.Series'>\n"
     ]
    },
    {
     "data": {
      "text/plain": [
       "area       3000\n",
       "age          15\n",
       "price    565000\n",
       "Name: 4.0, dtype: int64"
      ]
     },
     "execution_count": 20,
     "metadata": {},
     "output_type": "execute_result"
    }
   ],
   "source": [
    "# importing pandas package \n",
    "import pandas as pd \n",
    "\n",
    "# making data frame from csv file \n",
    "data = pd.read_csv(\"homeprices.csv\", index_col =\"bedrooms\") \n",
    "\n",
    "# retrieving rows by loc method \n",
    "rows = data.loc[4.0] \n",
    "\n",
    "# checking data type of rows \n",
    "print(type(rows)) \n",
    "\n",
    "# display \n",
    "rows \n"
   ]
  },
  {
   "cell_type": "markdown",
   "id": "90423ae7-83b8-4368-86cd-578861260966",
   "metadata": {},
   "source": [
    "Extracting rows between two index labels :"
   ]
  },
  {
   "cell_type": "code",
   "execution_count": 22,
   "id": "7f899f31-a6e0-4852-bfc9-0cb7c52bdc7f",
   "metadata": {},
   "outputs": [
    {
     "name": "stdout",
     "output_type": "stream",
     "text": [
      "<class 'pandas.core.frame.DataFrame'>\n"
     ]
    },
    {
     "data": {
      "text/html": [
       "<div>\n",
       "<style scoped>\n",
       "    .dataframe tbody tr th:only-of-type {\n",
       "        vertical-align: middle;\n",
       "    }\n",
       "\n",
       "    .dataframe tbody tr th {\n",
       "        vertical-align: top;\n",
       "    }\n",
       "\n",
       "    .dataframe thead th {\n",
       "        text-align: right;\n",
       "    }\n",
       "</style>\n",
       "<table border=\"1\" class=\"dataframe\">\n",
       "  <thead>\n",
       "    <tr style=\"text-align: right;\">\n",
       "      <th></th>\n",
       "      <th>bedrooms</th>\n",
       "      <th>age</th>\n",
       "      <th>price</th>\n",
       "    </tr>\n",
       "    <tr>\n",
       "      <th>area</th>\n",
       "      <th></th>\n",
       "      <th></th>\n",
       "      <th></th>\n",
       "    </tr>\n",
       "  </thead>\n",
       "  <tbody>\n",
       "    <tr>\n",
       "      <th>2600</th>\n",
       "      <td>3.0</td>\n",
       "      <td>20</td>\n",
       "      <td>550000</td>\n",
       "    </tr>\n",
       "    <tr>\n",
       "      <th>3000</th>\n",
       "      <td>4.0</td>\n",
       "      <td>15</td>\n",
       "      <td>565000</td>\n",
       "    </tr>\n",
       "    <tr>\n",
       "      <th>3200</th>\n",
       "      <td>NaN</td>\n",
       "      <td>18</td>\n",
       "      <td>610000</td>\n",
       "    </tr>\n",
       "    <tr>\n",
       "      <th>3600</th>\n",
       "      <td>3.0</td>\n",
       "      <td>30</td>\n",
       "      <td>595000</td>\n",
       "    </tr>\n",
       "  </tbody>\n",
       "</table>\n",
       "</div>"
      ],
      "text/plain": [
       "      bedrooms  age   price\n",
       "area                       \n",
       "2600       3.0   20  550000\n",
       "3000       4.0   15  565000\n",
       "3200       NaN   18  610000\n",
       "3600       3.0   30  595000"
      ]
     },
     "execution_count": 22,
     "metadata": {},
     "output_type": "execute_result"
    }
   ],
   "source": [
    "# importing pandas package \n",
    "import pandas as pd \n",
    "\n",
    "# making data frame from csv file \n",
    "data = pd.read_csv(\"homeprices.csv\", index_col =\"area\") \n",
    "\n",
    "# retrieving rows by loc method \n",
    "rows = data.loc[2600:3600] \n",
    "\n",
    "# checking data type of rows \n",
    "print(type(rows)) \n",
    "\n",
    "# display \n",
    "rows \n"
   ]
  },
  {
   "cell_type": "markdown",
   "id": "6309df02-6545-481e-962f-6df483477355",
   "metadata": {},
   "source": [
    "Extracting rows using Pandas .iloc[] :"
   ]
  },
  {
   "cell_type": "code",
   "execution_count": 23,
   "id": "4e7d6641-8cde-4b0e-97fd-338455887556",
   "metadata": {},
   "outputs": [
    {
     "data": {
      "text/plain": [
       "area        True\n",
       "bedrooms    True\n",
       "age         True\n",
       "price       True\n",
       "Name: 3, dtype: bool"
      ]
     },
     "execution_count": 23,
     "metadata": {},
     "output_type": "execute_result"
    }
   ],
   "source": [
    "# importing pandas package\n",
    "import pandas as pd\n",
    "\n",
    "# making data frame from csv file\n",
    "data = pd.read_csv('homeprices.csv')\n",
    "\n",
    "# retrieving rows by loc method\n",
    "row1 = data.loc[3]\n",
    "\n",
    "# retrieving rows by iloc method\n",
    "row2 = data.iloc[3]\n",
    "\n",
    "# checking if values are equal\n",
    "row1 == row2\n"
   ]
  },
  {
   "cell_type": "markdown",
   "id": "6364d165-4574-40ac-8916-30f772ada7c2",
   "metadata": {},
   "source": [
    "Selecting Multiple Rows using Pandas .iloc[] :"
   ]
  },
  {
   "cell_type": "code",
   "execution_count": 29,
   "id": "7ad62c0a-d8d9-4389-b836-da2dce90ccd7",
   "metadata": {},
   "outputs": [
    {
     "name": "stdout",
     "output_type": "stream",
     "text": [
      "Original DataFrame:\n",
      "       Age  Salary\n",
      "Name              \n",
      "Geek1   25   50000\n",
      "Geek2   30   60000\n",
      "Geek3   22   45000\n",
      "Geek4   35   70000\n",
      "Geek5   28   55000\n",
      "\n",
      "Extracted Row (Geek1):\n",
      "Age          25\n",
      "Salary    50000\n",
      "Name: Geek1, dtype: int64\n",
      "\n",
      "Extracted Rows (Geek2 to Geek3):\n",
      "       Age  Salary\n",
      "Name              \n",
      "Geek2   30   60000\n",
      "Geek3   22   45000\n"
     ]
    }
   ],
   "source": [
    "import pandas as pd\n",
    "\n",
    "# Creating a sample DataFrame\n",
    "data = pd.DataFrame({\n",
    "\t'Name': ['Geek1', 'Geek2', 'Geek3', 'Geek4', 'Geek5'],\n",
    "\t'Age': [25, 30, 22, 35, 28],\n",
    "\t'Salary': [50000, 60000, 45000, 70000, 55000]\n",
    "})\n",
    "\n",
    "# Setting 'Name' column as the index for clarity\n",
    "data.set_index('Name', inplace=True)\n",
    "\n",
    "# Displaying the original DataFrame\n",
    "print(\"Original DataFrame:\")\n",
    "print(data)\n",
    "\n",
    "# Extracting a single row by index\n",
    "row_alice = data.iloc[0, :]\n",
    "print(\"\\nExtracted Row (Geek1):\")\n",
    "print(row_alice)\n",
    "\n",
    "# Extracting multiple rows using a slice\n",
    "rows_geek2_to_geek3 = data.iloc[1:3, :]\n",
    "print(\"\\nExtracted Rows (Geek2 to Geek3):\")\n",
    "print(rows_geek2_to_geek3)\n"
   ]
  },
  {
   "cell_type": "markdown",
   "id": "e9361856-5c1e-4725-82d9-fb30754b9d64",
   "metadata": {},
   "source": [
    "Boolean Indexing in Pandas :"
   ]
  },
  {
   "cell_type": "code",
   "execution_count": 32,
   "id": "f5050ea5-eb68-46a1-b196-888ca6d2c1ea",
   "metadata": {},
   "outputs": [
    {
     "name": "stdout",
     "output_type": "stream",
     "text": [
      "         name  degree  score\n",
      "True   aparna     MBA     90\n",
      "False  pankaj     BCA     40\n",
      "True   sudhir  M.Tech     80\n",
      "False   Geeku     MBA     98\n"
     ]
    }
   ],
   "source": [
    "# importing pandas as pd\n",
    "import pandas as pd\n",
    "\n",
    "# dictionary of lists\n",
    "dict = {'name':[\"aparna\", \"pankaj\", \"sudhir\", \"Geeku\"],\n",
    "\t\t'degree': [\"MBA\", \"BCA\", \"M.Tech\", \"MBA\"],\n",
    "\t\t'score':[90, 40, 80, 98]}\n",
    "\n",
    "df = pd.DataFrame(dict, index = [True, False, True, False])\n",
    "\n",
    "print(df)\n"
   ]
  },
  {
   "cell_type": "code",
   "execution_count": 33,
   "id": "dd7cf7e1-fbc5-48d6-b9f5-cf24ccf7ab99",
   "metadata": {},
   "outputs": [
    {
     "name": "stdout",
     "output_type": "stream",
     "text": [
      "        name  degree  score\n",
      "True  aparna     MBA     90\n",
      "True  sudhir  M.Tech     80\n"
     ]
    }
   ],
   "source": [
    "# importing pandas as pd\n",
    "import pandas as pd\n",
    "\n",
    "# dictionary of lists\n",
    "dict = {'name':[\"aparna\", \"pankaj\", \"sudhir\", \"Geeku\"],\n",
    "\t\t'degree': [\"MBA\", \"BCA\", \"M.Tech\", \"MBA\"],\n",
    "\t\t'score':[90, 40, 80, 98]}\n",
    "\n",
    "# creating a dataframe with boolean index \n",
    "df = pd.DataFrame(dict, index = [True, False, True, False])\n",
    "\n",
    "# accessing a dataframe using .loc[] function \n",
    "print(df.loc[True])\n"
   ]
  },
  {
   "cell_type": "code",
   "execution_count": 35,
   "id": "ce18907c-7d9e-4cda-b17b-1a2c39c3bb12",
   "metadata": {},
   "outputs": [
    {
     "name": "stdout",
     "output_type": "stream",
     "text": [
      "name      pankaj\n",
      "degree       BCA\n",
      "score         40\n",
      "Name: False, dtype: object\n"
     ]
    }
   ],
   "source": [
    "# importing pandas as pd\n",
    "import pandas as pd\n",
    "\n",
    "# dictionary of lists\n",
    "dict = {'name':[\"aparna\", \"pankaj\", \"sudhir\", \"Geeku\"],\n",
    "\t\t'degree': [\"MBA\", \"BCA\", \"M.Tech\", \"MBA\"],\n",
    "\t\t'score':[90, 40, 80, 98]}\n",
    "\n",
    "# creating a dataframe with boolean index \n",
    "df = pd.DataFrame(dict, index = [True, False, True, False])\n",
    "\n",
    "# accessing a dataframe using .iloc[] function \n",
    "print(df.iloc[1])\n"
   ]
  },
  {
   "cell_type": "code",
   "execution_count": 40,
   "id": "b5b7dffb-54b2-43a8-bb24-858540ab63de",
   "metadata": {},
   "outputs": [
    {
     "name": "stdout",
     "output_type": "stream",
     "text": [
      "     name  degree  score\n",
      "0  aparna     MBA     90\n",
      "2  sudhir  M.Tech     80\n"
     ]
    }
   ],
   "source": [
    "# importing pandas as pd\n",
    "import pandas as pd\n",
    "\n",
    "# dictionary of lists\n",
    "dict = {'name':[\"aparna\", \"pankaj\", \"sudhir\", \"Geeku\"],\n",
    "\t\t'degree': [\"MBA\", \"BCA\", \"M.Tech\", \"MBA\"],\n",
    "\t\t'score':[90, 40, 80, 98]}\n",
    "\n",
    "df = pd.DataFrame(dict, index = [0, 1, 2, 3])\n",
    "\n",
    "\n",
    "\n",
    "print(df[[True, False, True, False]])\n"
   ]
  },
  {
   "cell_type": "code",
   "execution_count": 41,
   "id": "6f9e6fa1-40c5-49c4-85a9-5dd87e6d0ccd",
   "metadata": {},
   "outputs": [
    {
     "name": "stdout",
     "output_type": "stream",
     "text": [
      "0     True\n",
      "1     True\n",
      "2    False\n",
      "3     True\n",
      "Name: degree, dtype: bool\n"
     ]
    }
   ],
   "source": [
    "# importing pandas as pd\n",
    "import pandas as pd\n",
    "\n",
    "# dictionary of lists\n",
    "dict = {'name':[\"aparna\", \"pankaj\", \"sudhir\", \"Geeku\"],\n",
    "\t\t'degree': [\"BCA\", \"BCA\", \"M.Tech\", \"BCA\"],\n",
    "\t\t'score':[90, 40, 80, 98]}\n",
    "\n",
    "# creating a dataframe \n",
    "df = pd.DataFrame(dict)\n",
    "\n",
    "# using a comparison operator for filtering of data\n",
    "print(df['degree'] == 'BCA')\n"
   ]
  },
  {
   "cell_type": "code",
   "execution_count": 42,
   "id": "59289994-f57e-47b4-a0a2-d4dca220b1d1",
   "metadata": {},
   "outputs": [
    {
     "name": "stdout",
     "output_type": "stream",
     "text": [
      "     name degree  score\n",
      "0  aparna    BCA     90\n"
     ]
    }
   ],
   "source": [
    "# importing pandas as pd\n",
    "import pandas as pd\n",
    "\n",
    "# dictionary of lists\n",
    "dict = {'name':[\"aparna\", \"pankaj\", \"sudhir\", \"Geeku\"],\n",
    "\t\t'degree': [\"BCA\", \"BCA\", \"M.Tech\", \"BCA\"],\n",
    "\t\t'score':[90, 40, 80, 98]}\n",
    "\n",
    "\n",
    "df = pd.DataFrame(dict, index = [0, 1, 2, 3])\n",
    "\n",
    "mask = df.index == 0\n",
    "\n",
    "print(df[mask])\n"
   ]
  },
  {
   "cell_type": "code",
   "execution_count": 45,
   "id": "bafb4036-b9a9-42d1-85a7-ad1aaf89d559",
   "metadata": {},
   "outputs": [
    {
     "name": "stdout",
     "output_type": "stream",
     "text": [
      "Slicing only rows(till index 3):\n",
      "   area  bedrooms  age   price\n",
      "0  2600       3.0   20  550000\n",
      "1  3000       4.0   15  565000\n",
      "2  3200       NaN   18  610000 \n",
      "\n",
      "Slicing rows and columns(rows=4, col 1-4, excluding 4):\n",
      "   bedrooms  age\n",
      "0       3.0   20\n",
      "1       4.0   15\n",
      "2       NaN   18\n"
     ]
    }
   ],
   "source": [
    "# importing pandas package \n",
    "import pandas as geek \n",
    "\t\n",
    "# making data frame from csv file \n",
    "data = geek.read_csv(\"homeprices.csv\") \n",
    "\t\n",
    "# Integer slicing \n",
    "print(\"Slicing only rows(till index 3):\") \n",
    "x1 = data.iloc[:3, ] \n",
    "print(x1, \"\\n\") \n",
    "\n",
    "print(\"Slicing rows and columns(rows=4, col 1-4, excluding 4):\") \n",
    "x2 = data.iloc[:3, 1:3] \n",
    "print(x2) \n"
   ]
  },
  {
   "cell_type": "markdown",
   "id": "72717526-3671-41f6-a3a0-9f96cd923acf",
   "metadata": {},
   "source": [
    "Pandas Series.str.slice() :"
   ]
  },
  {
   "cell_type": "code",
   "execution_count": 46,
   "id": "2b65e8c6-b1e1-446e-9256-3aabd75bf090",
   "metadata": {},
   "outputs": [
    {
     "data": {
      "text/html": [
       "<div>\n",
       "<style scoped>\n",
       "    .dataframe tbody tr th:only-of-type {\n",
       "        vertical-align: middle;\n",
       "    }\n",
       "\n",
       "    .dataframe tbody tr th {\n",
       "        vertical-align: top;\n",
       "    }\n",
       "\n",
       "    .dataframe thead th {\n",
       "        text-align: right;\n",
       "    }\n",
       "</style>\n",
       "<table border=\"1\" class=\"dataframe\">\n",
       "  <thead>\n",
       "    <tr style=\"text-align: right;\">\n",
       "      <th></th>\n",
       "      <th>area</th>\n",
       "      <th>bedrooms</th>\n",
       "      <th>age</th>\n",
       "      <th>price</th>\n",
       "      <th>area (int)</th>\n",
       "    </tr>\n",
       "  </thead>\n",
       "  <tbody>\n",
       "    <tr>\n",
       "      <th>0</th>\n",
       "      <td>2600</td>\n",
       "      <td>3.0</td>\n",
       "      <td>20</td>\n",
       "      <td>550000</td>\n",
       "      <td>26</td>\n",
       "    </tr>\n",
       "    <tr>\n",
       "      <th>1</th>\n",
       "      <td>3000</td>\n",
       "      <td>4.0</td>\n",
       "      <td>15</td>\n",
       "      <td>565000</td>\n",
       "      <td>30</td>\n",
       "    </tr>\n",
       "    <tr>\n",
       "      <th>3</th>\n",
       "      <td>3600</td>\n",
       "      <td>3.0</td>\n",
       "      <td>30</td>\n",
       "      <td>595000</td>\n",
       "      <td>36</td>\n",
       "    </tr>\n",
       "    <tr>\n",
       "      <th>4</th>\n",
       "      <td>4000</td>\n",
       "      <td>5.0</td>\n",
       "      <td>8</td>\n",
       "      <td>760000</td>\n",
       "      <td>40</td>\n",
       "    </tr>\n",
       "    <tr>\n",
       "      <th>5</th>\n",
       "      <td>4100</td>\n",
       "      <td>6.0</td>\n",
       "      <td>8</td>\n",
       "      <td>810000</td>\n",
       "      <td>41</td>\n",
       "    </tr>\n",
       "  </tbody>\n",
       "</table>\n",
       "</div>"
      ],
      "text/plain": [
       "   area  bedrooms  age   price area (int)\n",
       "0  2600       3.0   20  550000         26\n",
       "1  3000       4.0   15  565000         30\n",
       "3  3600       3.0   30  595000         36\n",
       "4  4000       5.0    8  760000         40\n",
       "5  4100       6.0    8  810000         41"
      ]
     },
     "execution_count": 46,
     "metadata": {},
     "output_type": "execute_result"
    }
   ],
   "source": [
    "# importing pandas module \n",
    "import pandas as pd \n",
    "\t\n",
    "# making data frame \n",
    "data = pd.read_csv(\"homeprices.csv\") \n",
    "\t\n",
    "# removing null values to avoid errors \n",
    "data.dropna(inplace = True) \n",
    "\n",
    "# start stop and step variables \n",
    "start, stop, step = 0, -2, 1\n",
    "\n",
    "# converting to string data type \n",
    "data[\"area\"]= data[\"area\"].astype(str) \n",
    "\n",
    "# slicing till 2nd last element \n",
    "data[\"area (int)\"]= data[\"area\"].str.slice(start, stop, step) \n",
    "\n",
    "# display \n",
    "data.head(10) \n"
   ]
  },
  {
   "cell_type": "markdown",
   "id": "c9e9e40b-cffc-4f05-8800-8ef973768bd8",
   "metadata": {},
   "source": [
    "How to take column-slices of DataFrame in Pandas :"
   ]
  },
  {
   "cell_type": "code",
   "execution_count": 47,
   "id": "43170bdb-4f61-4d68-b94e-32b4bea547e3",
   "metadata": {},
   "outputs": [
    {
     "data": {
      "text/html": [
       "<div>\n",
       "<style scoped>\n",
       "    .dataframe tbody tr th:only-of-type {\n",
       "        vertical-align: middle;\n",
       "    }\n",
       "\n",
       "    .dataframe tbody tr th {\n",
       "        vertical-align: top;\n",
       "    }\n",
       "\n",
       "    .dataframe thead th {\n",
       "        text-align: right;\n",
       "    }\n",
       "</style>\n",
       "<table border=\"1\" class=\"dataframe\">\n",
       "  <thead>\n",
       "    <tr style=\"text-align: right;\">\n",
       "      <th></th>\n",
       "      <th>a</th>\n",
       "      <th>b</th>\n",
       "      <th>c</th>\n",
       "      <th>d</th>\n",
       "      <th>e</th>\n",
       "    </tr>\n",
       "  </thead>\n",
       "  <tbody>\n",
       "    <tr>\n",
       "      <th>0</th>\n",
       "      <td>1</td>\n",
       "      <td>2</td>\n",
       "      <td>3</td>\n",
       "      <td>4</td>\n",
       "      <td>5</td>\n",
       "    </tr>\n",
       "    <tr>\n",
       "      <th>1</th>\n",
       "      <td>2</td>\n",
       "      <td>3</td>\n",
       "      <td>4</td>\n",
       "      <td>5</td>\n",
       "      <td>6</td>\n",
       "    </tr>\n",
       "    <tr>\n",
       "      <th>2</th>\n",
       "      <td>3</td>\n",
       "      <td>4</td>\n",
       "      <td>5</td>\n",
       "      <td>6</td>\n",
       "      <td>7</td>\n",
       "    </tr>\n",
       "    <tr>\n",
       "      <th>3</th>\n",
       "      <td>4</td>\n",
       "      <td>2</td>\n",
       "      <td>2</td>\n",
       "      <td>2</td>\n",
       "      <td>2</td>\n",
       "    </tr>\n",
       "    <tr>\n",
       "      <th>4</th>\n",
       "      <td>5</td>\n",
       "      <td>3</td>\n",
       "      <td>3</td>\n",
       "      <td>3</td>\n",
       "      <td>3</td>\n",
       "    </tr>\n",
       "    <tr>\n",
       "      <th>5</th>\n",
       "      <td>6</td>\n",
       "      <td>4</td>\n",
       "      <td>4</td>\n",
       "      <td>4</td>\n",
       "      <td>4</td>\n",
       "    </tr>\n",
       "    <tr>\n",
       "      <th>6</th>\n",
       "      <td>7</td>\n",
       "      <td>5</td>\n",
       "      <td>5</td>\n",
       "      <td>5</td>\n",
       "      <td>5</td>\n",
       "    </tr>\n",
       "  </tbody>\n",
       "</table>\n",
       "</div>"
      ],
      "text/plain": [
       "   a  b  c  d  e\n",
       "0  1  2  3  4  5\n",
       "1  2  3  4  5  6\n",
       "2  3  4  5  6  7\n",
       "3  4  2  2  2  2\n",
       "4  5  3  3  3  3\n",
       "5  6  4  4  4  4\n",
       "6  7  5  5  5  5"
      ]
     },
     "metadata": {},
     "output_type": "display_data"
    }
   ],
   "source": [
    "# importing pandas\n",
    "import pandas as pd\n",
    "\n",
    "# Using DataFrame() method from pandas module\n",
    "df1 = pd.DataFrame({\"a\": [1, 2, 3, 4, 5, 6, 7], \n",
    "\t\t\t\t\t\"b\": [2, 3, 4, 2, 3, 4, 5], \n",
    "\t\t\t\t\t\"c\": [3, 4, 5, 2, 3, 4, 5], \n",
    "\t\t\t\t\t\"d\": [4, 5, 6, 2, 3, 4, 5], \n",
    "\t\t\t\t\t\"e\": [5, 6, 7, 2, 3, 4, 5]})\n",
    "\n",
    "display(df1)\n"
   ]
  },
  {
   "cell_type": "code",
   "execution_count": 48,
   "id": "3e46306e-6149-4aad-9a73-d6ea96b000aa",
   "metadata": {},
   "outputs": [
    {
     "name": "stdout",
     "output_type": "stream",
     "text": [
      "   c  b\n",
      "0  3  2\n",
      "1  4  3\n",
      "2  5  4\n",
      "3  2  2\n",
      "4  3  3\n",
      "5  4  4\n",
      "6  5  5\n"
     ]
    }
   ],
   "source": [
    "df2 = df1.reindex(columns = ['c','b'])\n",
    "print(df2)\n"
   ]
  },
  {
   "cell_type": "code",
   "execution_count": 49,
   "id": "6d2c0310-8c8e-487b-8d9b-32bfd8def9a7",
   "metadata": {},
   "outputs": [
    {
     "name": "stdout",
     "output_type": "stream",
     "text": [
      "   b  d\n",
      "0  2  4\n",
      "1  3  5\n",
      "2  4  6\n",
      "3  2  2\n",
      "4  3  3\n",
      "5  4  4\n",
      "6  5  5\n"
     ]
    }
   ],
   "source": [
    "df2 = df1.loc[:, \"b\":\"d\":2]\n",
    "print(df2)\n"
   ]
  },
  {
   "cell_type": "code",
   "execution_count": 50,
   "id": "ca18ad6f-cd7e-4962-95a8-64e0f6ee6a3a",
   "metadata": {},
   "outputs": [
    {
     "name": "stdout",
     "output_type": "stream",
     "text": [
      "   c  d  e\n",
      "0  3  4  5\n",
      "1  4  5  6\n",
      "2  5  6  7\n",
      "3  2  2  2\n",
      "4  3  3  3\n",
      "5  4  4  4\n",
      "6  5  5  5\n"
     ]
    }
   ],
   "source": [
    "df2 = df1.loc[:, \"c\":\"e\":1]\n",
    "print(df2)\n"
   ]
  },
  {
   "cell_type": "code",
   "execution_count": 51,
   "id": "54fe1704-dce3-4206-9081-e888984791b0",
   "metadata": {},
   "outputs": [
    {
     "name": "stdout",
     "output_type": "stream",
     "text": [
      "   b  c\n",
      "0  2  3\n",
      "1  3  4\n",
      "2  4  5\n",
      "3  2  2\n",
      "4  3  3\n",
      "5  4  4\n",
      "6  5  5\n"
     ]
    }
   ],
   "source": [
    "df2 = df1.iloc[:, 1:3:1]\n",
    "print(df2)\n",
    "#Syntax: [ start : stop : step]"
   ]
  },
  {
   "cell_type": "code",
   "execution_count": 52,
   "id": "fcfe361c-563d-47c5-9ec0-6ed67169045d",
   "metadata": {},
   "outputs": [
    {
     "name": "stdout",
     "output_type": "stream",
     "text": [
      "   a  c\n",
      "0  1  3\n",
      "1  2  4\n",
      "2  3  5\n",
      "3  4  2\n",
      "4  5  3\n",
      "5  6  4\n",
      "6  7  5\n"
     ]
    }
   ],
   "source": [
    "df2 = df1.iloc[:, 0:3:2]\n",
    "print(df2)\n"
   ]
  },
  {
   "cell_type": "code",
   "execution_count": null,
   "id": "510e386a-7022-404a-b5b8-82c7ce3b114e",
   "metadata": {},
   "outputs": [],
   "source": []
  }
 ],
 "metadata": {
  "kernelspec": {
   "display_name": "Python 3 (ipykernel)",
   "language": "python",
   "name": "python3"
  },
  "language_info": {
   "codemirror_mode": {
    "name": "ipython",
    "version": 3
   },
   "file_extension": ".py",
   "mimetype": "text/x-python",
   "name": "python",
   "nbconvert_exporter": "python",
   "pygments_lexer": "ipython3",
   "version": "3.11.7"
  }
 },
 "nbformat": 4,
 "nbformat_minor": 5
}
